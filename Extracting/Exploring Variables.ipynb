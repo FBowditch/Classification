{
 "cells": [
  {
   "cell_type": "code",
   "execution_count": 896,
   "metadata": {},
   "outputs": [],
   "source": [
    "import numpy as np\n",
    "import pandas as pd\n",
    "import seaborn as sns\n",
    "import matplotlib.pyplot as plt \n",
    "import matplotlib.ticker as ticker\n",
    "from sklearn.pipeline import Pipeline\n",
    "from sklearn.preprocessing import StandardScaler, MinMaxScaler\n",
    "from sklearn.linear_model import LogisticRegression\n",
    "from sklearn.model_selection import train_test_split, GridSearchCV\n",
    "import funcs\n",
    "from statsmodels.formula.api import ols\n",
    "from sklearn.compose import ColumnTransformer\n",
    "from sklearn.impute import SimpleImputer\n",
    "import statsmodels.api as sm\n",
    "\n",
    "\n",
    "%matplotlib inline"
   ]
  },
  {
   "cell_type": "code",
   "execution_count": 23,
   "metadata": {},
   "outputs": [],
   "source": [
    "md = pd.read_csv('Masters_StatsT25.csv')"
   ]
  },
  {
   "cell_type": "code",
   "execution_count": 27,
   "metadata": {},
   "outputs": [],
   "source": [
    "md.rename(columns ={'Driving_Rank':'S1',\"Top_10's\":'S2','Percent_BreakPar_Ranklog':'S3','Avg_Score_Ranklog':'S4','Money_Ranklog':'S5','Average_Drive_Distance':'S6','Percent_Fairway_Hit':'S7','Percent_Greens_Hit':'S8','Percent_Par3_Bird':'S9','Percent_Par4_Bird':'S10','Percent_Par5_Bird':'S11','Avg_scoreB4cut':'S12'}, inplace = True)"
   ]
  },
  {
   "cell_type": "markdown",
   "metadata": {},
   "source": [
    "### X and Y Data"
   ]
  },
  {
   "cell_type": "code",
   "execution_count": 629,
   "metadata": {},
   "outputs": [],
   "source": [
    "# X = md[['S1','S2','S3','S4','S5','S6','S7','S8','S9','S10','S11','S12']]"
   ]
  },
  {
   "cell_type": "code",
   "execution_count": 611,
   "metadata": {},
   "outputs": [],
   "source": [
    "y = md['Masters_Top_25']"
   ]
  },
  {
   "cell_type": "markdown",
   "metadata": {},
   "source": [
    "# Feature Elimination"
   ]
  },
  {
   "cell_type": "markdown",
   "metadata": {},
   "source": [
    "Feature ranking with recursive feature elimination.\n",
    "\n",
    "Given an external estimator that assigns weights to features (e.g., the coefficients of a linear model), the goal of recursive feature elimination (RFE) is to select features by recursively considering smaller and smaller sets of features. First, the estimator is trained on the initial set of features and the importance of each feature is obtained either through a coef_ attribute or through a feature_importances_ attribute. Then, the least important features are pruned from current set of features. That procedure is recursively repeated on the pruned set until the desired number of features to select is eventually reached."
   ]
  },
  {
   "cell_type": "markdown",
   "metadata": {},
   "source": [
    "#### Recursive Feature Elimination: ranks the features based on the weights, but repeating the process N times, adding the worst feature to the end of the rank, as explained for the case of SVM-RFE;"
   ]
  },
  {
   "cell_type": "code",
   "execution_count": 613,
   "metadata": {
    "scrolled": true
   },
   "outputs": [
    {
     "name": "stderr",
     "output_type": "stream",
     "text": [
      "/Users/findlaybowditch/opt/anaconda3/lib/python3.7/site-packages/sklearn/linear_model/logistic.py:432: FutureWarning: Default solver will be changed to 'lbfgs' in 0.22. Specify a solver to silence this warning.\n",
      "  FutureWarning)\n",
      "/Users/findlaybowditch/opt/anaconda3/lib/python3.7/site-packages/sklearn/linear_model/logistic.py:432: FutureWarning: Default solver will be changed to 'lbfgs' in 0.22. Specify a solver to silence this warning.\n",
      "  FutureWarning)\n",
      "/Users/findlaybowditch/opt/anaconda3/lib/python3.7/site-packages/sklearn/linear_model/logistic.py:432: FutureWarning: Default solver will be changed to 'lbfgs' in 0.22. Specify a solver to silence this warning.\n",
      "  FutureWarning)\n",
      "/Users/findlaybowditch/opt/anaconda3/lib/python3.7/site-packages/sklearn/linear_model/logistic.py:432: FutureWarning: Default solver will be changed to 'lbfgs' in 0.22. Specify a solver to silence this warning.\n",
      "  FutureWarning)\n",
      "/Users/findlaybowditch/opt/anaconda3/lib/python3.7/site-packages/sklearn/linear_model/logistic.py:432: FutureWarning: Default solver will be changed to 'lbfgs' in 0.22. Specify a solver to silence this warning.\n",
      "  FutureWarning)\n",
      "/Users/findlaybowditch/opt/anaconda3/lib/python3.7/site-packages/sklearn/linear_model/logistic.py:432: FutureWarning: Default solver will be changed to 'lbfgs' in 0.22. Specify a solver to silence this warning.\n",
      "  FutureWarning)\n"
     ]
    },
    {
     "data": {
      "text/plain": [
       "array([4, 1, 1, 2, 1, 5, 6, 3, 1, 1, 1, 1])"
      ]
     },
     "execution_count": 613,
     "metadata": {},
     "output_type": "execute_result"
    }
   ],
   "source": [
    "from sklearn.feature_selection import RFE\n",
    "selector = RFE(logreg, 7)\n",
    "selector = selector.fit(X, y)\n",
    "selector.support_\n",
    "\n",
    "selector.ranking_"
   ]
  },
  {
   "cell_type": "markdown",
   "metadata": {},
   "source": [
    "### Change X"
   ]
  },
  {
   "cell_type": "code",
   "execution_count": 614,
   "metadata": {},
   "outputs": [],
   "source": [
    "X = md[['S2','S3', 'S5','S8','S9','S10','S11','S12']]"
   ]
  },
  {
   "cell_type": "markdown",
   "metadata": {},
   "source": [
    "# Look At P-Value"
   ]
  },
  {
   "cell_type": "code",
   "execution_count": 630,
   "metadata": {
    "scrolled": true
   },
   "outputs": [
    {
     "name": "stdout",
     "output_type": "stream",
     "text": [
      "Optimization terminated successfully.\n",
      "         Current function value: 0.659116\n",
      "         Iterations 5\n",
      "                         Results: Logit\n",
      "================================================================\n",
      "Model:              Logit            Pseudo R-squared: -0.003   \n",
      "Dependent Variable: Masters_Top_25   AIC:              3075.7087\n",
      "Date:               2019-12-12 22:28 BIC:              3144.6747\n",
      "No. Observations:   2315             Log-Likelihood:   -1525.9  \n",
      "Df Model:           11               LL-Null:          -1522.0  \n",
      "Df Residuals:       2303             LLR p-value:      1.0000   \n",
      "Converged:          1.0000           Scale:            1.0000   \n",
      "No. Iterations:     5.0000                                      \n",
      "------------------------------------------------------------------\n",
      "          Coef.    Std.Err.      z      P>|z|     [0.025    0.975]\n",
      "------------------------------------------------------------------\n",
      "S1       -0.0753     0.0585   -1.2865   0.1983   -0.1900    0.0394\n",
      "S2        0.1907     0.0793    2.4032   0.0163    0.0352    0.3462\n",
      "S3       -0.3302     0.1207   -2.7364   0.0062   -0.5666   -0.0937\n",
      "S4        0.0905     0.1029    0.8798   0.3790   -0.1111    0.2922\n",
      "S5       -0.1328     0.0799   -1.6620   0.0965   -0.2894    0.0238\n",
      "S6       -0.0189     0.0864   -0.2185   0.8270   -0.1882    0.1504\n",
      "S7        0.0075     0.0596    0.1255   0.9001   -0.1093    0.1243\n",
      "S8        0.0633     0.0600    1.0554   0.2912   -0.0542    0.1808\n",
      "S9       -0.1407     0.0549   -2.5653   0.0103   -0.2482   -0.0332\n",
      "S10      -0.1353     0.0836   -1.6195   0.1053   -0.2991    0.0285\n",
      "S11      -0.1742     0.0818   -2.1287   0.0333   -0.3346   -0.0138\n",
      "S12      -0.2790     0.0857   -3.2568   0.0011   -0.4469   -0.1111\n",
      "================================================================\n",
      "\n"
     ]
    }
   ],
   "source": [
    "import statsmodels.api as sm\n",
    "logit_model=sm.Logit(y,X)\n",
    "result=logit_model.fit()\n",
    "print(result.summary2())"
   ]
  }
 ],
 "metadata": {
  "kernelspec": {
   "display_name": "Python 3",
   "language": "python",
   "name": "python3"
  },
  "language_info": {
   "codemirror_mode": {
    "name": "ipython",
    "version": 3
   },
   "file_extension": ".py",
   "mimetype": "text/x-python",
   "name": "python",
   "nbconvert_exporter": "python",
   "pygments_lexer": "ipython3",
   "version": "3.7.4"
  }
 },
 "nbformat": 4,
 "nbformat_minor": 2
}
