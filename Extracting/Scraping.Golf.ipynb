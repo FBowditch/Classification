{
 "cells": [
  {
   "cell_type": "code",
   "execution_count": 209,
   "metadata": {},
   "outputs": [],
   "source": [
    "import pandas as pd\n",
    "import requests\n",
    "from bs4 import BeautifulSoup as BS\n",
    "import time\n",
    "import mysql.connector \n",
    "import functools "
   ]
  },
  {
   "cell_type": "markdown",
   "metadata": {},
   "source": [
    "# Function for Most Consecutive Fairways Hit -----"
   ]
  },
  {
   "cell_type": "code",
   "execution_count": 581,
   "metadata": {},
   "outputs": [],
   "source": [
    "# def get_consec_greens(urls):\n",
    "#     List_stats = []\n",
    "#     for url in urls:\n",
    "#         soup = BS((requests.get(url)).content, 'html.parser')\n",
    "#         page = soup.find('tbody')\n",
    "#         for row in page.find_all('tr'):\n",
    "#             Stats = {}\n",
    "#             name = (row.find('td', class_= 'player-name').get_text())\n",
    "#             name = name.split('\\n')\n",
    "#             Stats['Player'] = name[1]\n",
    "#             Stats[\"Fairway_Streak\"] = int(row.find('td', class_= 'player-name').find_next('td').get_text())\n",
    "#             Stats['Year'] = int(url[56:60])\n",
    "#             List_stats.append(Stats)\n",
    "#     return List_stats\n"
   ]
  },
  {
   "cell_type": "markdown",
   "metadata": {},
   "source": [
    "# Function for Most Consectuive Greens Hit In Reg YTD -----"
   ]
  },
  {
   "cell_type": "code",
   "execution_count": 569,
   "metadata": {},
   "outputs": [],
   "source": [
    "# def get_consec_greens(urls):\n",
    "#     List_stats = []\n",
    "#     for url in urls:\n",
    "#         soup = BS((requests.get(url)).content, 'html.parser')\n",
    "#         page = soup.find('tbody')\n",
    "#         for row in page.find_all('tr'):\n",
    "#             Stats = {}\n",
    "#             name = (row.find('td', class_= 'player-name').get_text())\n",
    "#             name = name.split('\\n')\n",
    "#             Stats['Player'] = name[1]\n",
    "#             Stats[\"Highest_Green_Streak\"] = int(row.find('td', class_= 'player-name').find_next('td').get_text())\n",
    "#             Stats['Year'] = int(url[56:60])\n",
    "#             List_stats.append(Stats)\n",
    "#     return List_stats\n"
   ]
  },
  {
   "cell_type": "markdown",
   "metadata": {},
   "source": [
    "# Function for Putting Average YTD  RANK-----"
   ]
  },
  {
   "cell_type": "code",
   "execution_count": null,
   "metadata": {},
   "outputs": [],
   "source": [
    "# def get_putting_avg(urls):\n",
    "#     List_stats = []\n",
    "#     for url in urls:\n",
    "#         soup = BS((requests.get(url)).content, 'html.parser')\n",
    "#         page = soup.find('tbody')\n",
    "#         for row in page.find_all('tr'):\n",
    "#             Stats = {}\n",
    "#             name = (row.find('td', class_= 'player-name').get_text())\n",
    "#             name = name.split('\\n')\n",
    "#             Stats['Player'] = name[1]\n",
    "#             Stats['Putting_Average'] = float(row.find('td', class_= 'hidden-small hidden-medium').find_next().get_text())\n",
    "#             Stats['Year'] = int(url[56:60])\n",
    "#             List_stats.append(Stats)\n",
    "#     return List_stats\n"
   ]
  },
  {
   "cell_type": "markdown",
   "metadata": {},
   "source": [
    "# Test Scrap Function"
   ]
  },
  {
   "cell_type": "code",
   "execution_count": 133,
   "metadata": {
    "collapsed": true
   },
   "outputs": [
    {
     "data": {
      "text/plain": [
       "[{'Player': 'Justin Thomas', 'Percent_BreakPar_Rank': 1, 'Year': 2019},\n",
       " {'Player': 'Gary Woodland', 'Percent_BreakPar_Rank': 2, 'Year': 2019},\n",
       " {'Player': 'Justin Rose', 'Percent_BreakPar_Rank': 3, 'Year': 2019},\n",
       " {'Player': 'Jason Day', 'Percent_BreakPar_Rank': 4, 'Year': 2019},\n",
       " {'Player': 'Cameron Champ', 'Percent_BreakPar_Rank': 5, 'Year': 2019},\n",
       " {'Player': 'Bryson DeChambeau', 'Percent_BreakPar_Rank': 6, 'Year': 2019},\n",
       " {'Player': 'Si Woo Kim', 'Percent_BreakPar_Rank': 7, 'Year': 2019},\n",
       " {'Player': 'Rickie Fowler', 'Percent_BreakPar_Rank': 8, 'Year': 2019},\n",
       " {'Player': 'Rory McIlroy', 'Percent_BreakPar_Rank': 9, 'Year': 2019},\n",
       " {'Player': 'Ryan Palmer', 'Percent_BreakPar_Rank': 10, 'Year': 2019},\n",
       " {'Player': 'Phil Mickelson', 'Percent_BreakPar_Rank': 11, 'Year': 2019},\n",
       " {'Player': 'Aaron Wise', 'Percent_BreakPar_Rank': 12, 'Year': 2019},\n",
       " {'Player': 'Jon Rahm', 'Percent_BreakPar_Rank': 13, 'Year': 2019},\n",
       " {'Player': 'Xander Schauffele', 'Percent_BreakPar_Rank': 14, 'Year': 2019},\n",
       " {'Player': 'Tony Finau', 'Percent_BreakPar_Rank': 15, 'Year': 2019},\n",
       " {'Player': 'Matt Kuchar', 'Percent_BreakPar_Rank': 16, 'Year': 2019},\n",
       " {'Player': 'Dominic Bozzelli', 'Percent_BreakPar_Rank': 17, 'Year': 2019},\n",
       " {'Player': 'Tiger Woods', 'Percent_BreakPar_Rank': 18, 'Year': 2019},\n",
       " {'Player': 'Marc Leishman', 'Percent_BreakPar_Rank': 19, 'Year': 2019},\n",
       " {'Player': 'Patrick Cantlay', 'Percent_BreakPar_Rank': 20, 'Year': 2019},\n",
       " {'Player': 'Wyndham Clark', 'Percent_BreakPar_Rank': 21, 'Year': 2019},\n",
       " {'Player': 'Brooks Koepka', 'Percent_BreakPar_Rank': 22, 'Year': 2019},\n",
       " {'Player': 'Adam Scott', 'Percent_BreakPar_Rank': 23, 'Year': 2019},\n",
       " {'Player': 'Charles Howell III', 'Percent_BreakPar_Rank': 24, 'Year': 2019},\n",
       " {'Player': 'Byeong Hun An', 'Percent_BreakPar_Rank': 25, 'Year': 2019},\n",
       " {'Player': 'Matt Every', 'Percent_BreakPar_Rank': 26, 'Year': 2019},\n",
       " {'Player': 'Talor Gooch', 'Percent_BreakPar_Rank': 27, 'Year': 2019},\n",
       " {'Player': 'D.J. Trahan', 'Percent_BreakPar_Rank': 28, 'Year': 2019},\n",
       " {'Player': 'Rafa Cabrera Bello', 'Percent_BreakPar_Rank': 28, 'Year': 2019},\n",
       " {'Player': 'Jason Kokrak', 'Percent_BreakPar_Rank': 30, 'Year': 2019},\n",
       " {'Player': 'Jordan Spieth', 'Percent_BreakPar_Rank': 31, 'Year': 2019},\n",
       " {'Player': 'Luke List', 'Percent_BreakPar_Rank': 31, 'Year': 2019},\n",
       " {'Player': 'Scott Piercy', 'Percent_BreakPar_Rank': 33, 'Year': 2019},\n",
       " {'Player': 'Andrew Putnam', 'Percent_BreakPar_Rank': 33, 'Year': 2019},\n",
       " {'Player': 'Keith Mitchell', 'Percent_BreakPar_Rank': 35, 'Year': 2019},\n",
       " {'Player': 'Paul Casey', 'Percent_BreakPar_Rank': 36, 'Year': 2019},\n",
       " {'Player': 'Troy Merritt', 'Percent_BreakPar_Rank': 37, 'Year': 2019},\n",
       " {'Player': 'Sungjae Im', 'Percent_BreakPar_Rank': 38, 'Year': 2019},\n",
       " {'Player': 'Dustin Johnson', 'Percent_BreakPar_Rank': 39, 'Year': 2019},\n",
       " {'Player': 'Tyrrell Hatton', 'Percent_BreakPar_Rank': 40, 'Year': 2019},\n",
       " {'Player': 'Cameron Smith', 'Percent_BreakPar_Rank': 41, 'Year': 2019},\n",
       " {'Player': 'Ian Poulter', 'Percent_BreakPar_Rank': 42, 'Year': 2019},\n",
       " {'Player': 'Abraham Ancer', 'Percent_BreakPar_Rank': 43, 'Year': 2019},\n",
       " {'Player': 'Corey Conners', 'Percent_BreakPar_Rank': 44, 'Year': 2019},\n",
       " {'Player': 'Adam Hadwin', 'Percent_BreakPar_Rank': 45, 'Year': 2019},\n",
       " {'Player': 'Danny Lee', 'Percent_BreakPar_Rank': 46, 'Year': 2019},\n",
       " {'Player': 'Chez Reavie', 'Percent_BreakPar_Rank': 47, 'Year': 2019},\n",
       " {'Player': 'J.B. Holmes', 'Percent_BreakPar_Rank': 48, 'Year': 2019},\n",
       " {'Player': 'Hank Lebioda', 'Percent_BreakPar_Rank': 49, 'Year': 2019},\n",
       " {'Player': 'Nick Watney', 'Percent_BreakPar_Rank': 50, 'Year': 2019},\n",
       " {'Player': 'Emiliano Grillo', 'Percent_BreakPar_Rank': 51, 'Year': 2019},\n",
       " {'Player': 'Martin Piller', 'Percent_BreakPar_Rank': 52, 'Year': 2019},\n",
       " {'Player': 'Michael Thompson', 'Percent_BreakPar_Rank': 53, 'Year': 2019},\n",
       " {'Player': 'Jonathan Byrd', 'Percent_BreakPar_Rank': 54, 'Year': 2019},\n",
       " {'Player': 'Joel Dahmen', 'Percent_BreakPar_Rank': 55, 'Year': 2019},\n",
       " {'Player': 'Bud Cauley', 'Percent_BreakPar_Rank': 56, 'Year': 2019},\n",
       " {'Player': 'Patrick Reed', 'Percent_BreakPar_Rank': 56, 'Year': 2019},\n",
       " {'Player': 'Sam Ryder', 'Percent_BreakPar_Rank': 58, 'Year': 2019},\n",
       " {'Player': 'Nate Lashley', 'Percent_BreakPar_Rank': 59, 'Year': 2019},\n",
       " {'Player': 'Brandon Harkins', 'Percent_BreakPar_Rank': 59, 'Year': 2019},\n",
       " {'Player': 'Scott Stallings', 'Percent_BreakPar_Rank': 61, 'Year': 2019},\n",
       " {'Player': 'Hideki Matsuyama', 'Percent_BreakPar_Rank': 62, 'Year': 2019},\n",
       " {'Player': 'Lucas Glover', 'Percent_BreakPar_Rank': 63, 'Year': 2019},\n",
       " {'Player': 'Beau Hossler', 'Percent_BreakPar_Rank': 64, 'Year': 2019},\n",
       " {'Player': 'Webb Simpson', 'Percent_BreakPar_Rank': 65, 'Year': 2019},\n",
       " {'Player': 'Adam Schenk', 'Percent_BreakPar_Rank': 65, 'Year': 2019},\n",
       " {'Player': 'Jamie Lovemark', 'Percent_BreakPar_Rank': 67, 'Year': 2019},\n",
       " {'Player': 'Jhonattan Vegas', 'Percent_BreakPar_Rank': 68, 'Year': 2019},\n",
       " {'Player': 'Roger Sloan', 'Percent_BreakPar_Rank': 69, 'Year': 2019},\n",
       " {'Player': 'Vaughn Taylor', 'Percent_BreakPar_Rank': 70, 'Year': 2019},\n",
       " {'Player': 'Ryan Moore', 'Percent_BreakPar_Rank': 71, 'Year': 2019},\n",
       " {'Player': 'Aaron Baddeley', 'Percent_BreakPar_Rank': 72, 'Year': 2019},\n",
       " {'Player': 'Kelly Kraft', 'Percent_BreakPar_Rank': 73, 'Year': 2019},\n",
       " {'Player': 'Bubba Watson', 'Percent_BreakPar_Rank': 74, 'Year': 2019},\n",
       " {'Player': 'Austin Cook', 'Percent_BreakPar_Rank': 75, 'Year': 2019},\n",
       " {'Player': 'Martin Laird', 'Percent_BreakPar_Rank': 76, 'Year': 2019},\n",
       " {'Player': 'Rory Sabbatini', 'Percent_BreakPar_Rank': 77, 'Year': 2019},\n",
       " {'Player': 'Tommy Fleetwood', 'Percent_BreakPar_Rank': 78, 'Year': 2019},\n",
       " {'Player': 'Kyoung-Hoon Lee', 'Percent_BreakPar_Rank': 78, 'Year': 2019},\n",
       " {'Player': 'Keegan Bradley', 'Percent_BreakPar_Rank': 78, 'Year': 2019},\n",
       " {'Player': 'Cameron Davis', 'Percent_BreakPar_Rank': 78, 'Year': 2019},\n",
       " {'Player': 'J.T. Poston', 'Percent_BreakPar_Rank': 78, 'Year': 2019},\n",
       " {'Player': 'Brian Gay', 'Percent_BreakPar_Rank': 83, 'Year': 2019},\n",
       " {'Player': 'Harold Varner III', 'Percent_BreakPar_Rank': 84, 'Year': 2019},\n",
       " {'Player': 'Denny McCarthy', 'Percent_BreakPar_Rank': 84, 'Year': 2019},\n",
       " {'Player': 'Graeme McDowell', 'Percent_BreakPar_Rank': 86, 'Year': 2019},\n",
       " {'Player': 'Kevin Kisner', 'Percent_BreakPar_Rank': 87, 'Year': 2019},\n",
       " {'Player': 'Nick Taylor', 'Percent_BreakPar_Rank': 88, 'Year': 2019},\n",
       " {'Player': 'Louis Oosthuizen', 'Percent_BreakPar_Rank': 89, 'Year': 2019},\n",
       " {'Player': 'Brandt Snedeker', 'Percent_BreakPar_Rank': 89, 'Year': 2019},\n",
       " {'Player': 'Richy Werenski', 'Percent_BreakPar_Rank': 89, 'Year': 2019},\n",
       " {'Player': 'Patton Kizzire', 'Percent_BreakPar_Rank': 92, 'Year': 2019},\n",
       " {'Player': 'Seth Reeves', 'Percent_BreakPar_Rank': 92, 'Year': 2019},\n",
       " {'Player': 'Sergio Garcia', 'Percent_BreakPar_Rank': 94, 'Year': 2019},\n",
       " {'Player': 'Tom Lovelady', 'Percent_BreakPar_Rank': 95, 'Year': 2019},\n",
       " {'Player': 'Jim Furyk', 'Percent_BreakPar_Rank': 96, 'Year': 2019},\n",
       " {'Player': 'Jonas Blixt', 'Percent_BreakPar_Rank': 96, 'Year': 2019},\n",
       " {'Player': 'Hudson Swafford', 'Percent_BreakPar_Rank': 98, 'Year': 2019},\n",
       " {'Player': 'Ted Potter, Jr.', 'Percent_BreakPar_Rank': 99, 'Year': 2019},\n",
       " {'Player': 'Davis Love III', 'Percent_BreakPar_Rank': 99, 'Year': 2019},\n",
       " {'Player': 'Sung Kang', 'Percent_BreakPar_Rank': 101, 'Year': 2019},\n",
       " {'Player': 'Kiradech Aphibarnrat',\n",
       "  'Percent_BreakPar_Rank': 102,\n",
       "  'Year': 2019},\n",
       " {'Player': 'Sepp Straka', 'Percent_BreakPar_Rank': 103, 'Year': 2019},\n",
       " {'Player': 'Chesson Hadley', 'Percent_BreakPar_Rank': 104, 'Year': 2019},\n",
       " {'Player': 'Russell Knox', 'Percent_BreakPar_Rank': 105, 'Year': 2019},\n",
       " {'Player': 'Chase Wright', 'Percent_BreakPar_Rank': 105, 'Year': 2019},\n",
       " {'Player': 'Pat Perez', 'Percent_BreakPar_Rank': 107, 'Year': 2019},\n",
       " {'Player': 'J.J. Spaun', 'Percent_BreakPar_Rank': 108, 'Year': 2019},\n",
       " {'Player': 'Cameron Tringale', 'Percent_BreakPar_Rank': 109, 'Year': 2019},\n",
       " {'Player': 'Peter Uihlein', 'Percent_BreakPar_Rank': 110, 'Year': 2019},\n",
       " {'Player': 'Stewart Cink', 'Percent_BreakPar_Rank': 111, 'Year': 2019},\n",
       " {'Player': 'José de Jesús Rodríguez',\n",
       "  'Percent_BreakPar_Rank': 112,\n",
       "  'Year': 2019},\n",
       " {'Player': 'Grayson Murray', 'Percent_BreakPar_Rank': 113, 'Year': 2019},\n",
       " {'Player': 'Daniel Berger', 'Percent_BreakPar_Rank': 113, 'Year': 2019},\n",
       " {'Player': 'Scott Langley', 'Percent_BreakPar_Rank': 115, 'Year': 2019},\n",
       " {'Player': 'Roberto Castro', 'Percent_BreakPar_Rank': 116, 'Year': 2019},\n",
       " {'Player': 'Patrick Rodgers', 'Percent_BreakPar_Rank': 117, 'Year': 2019},\n",
       " {'Player': 'Sebastián Muñoz', 'Percent_BreakPar_Rank': 117, 'Year': 2019},\n",
       " {'Player': 'Josh Teater', 'Percent_BreakPar_Rank': 117, 'Year': 2019},\n",
       " {'Player': 'Trey Mullinax', 'Percent_BreakPar_Rank': 120, 'Year': 2019},\n",
       " {'Player': 'Matt Wallace', 'Percent_BreakPar_Rank': 121, 'Year': 2019},\n",
       " {'Player': 'Johnson Wagner', 'Percent_BreakPar_Rank': 121, 'Year': 2019},\n",
       " {'Player': 'Zach Johnson', 'Percent_BreakPar_Rank': 121, 'Year': 2019},\n",
       " {'Player': 'Branden Grace', 'Percent_BreakPar_Rank': 124, 'Year': 2019},\n",
       " {'Player': 'Bronson Burgoon', 'Percent_BreakPar_Rank': 125, 'Year': 2019},\n",
       " {'Player': 'Ryan Blaum', 'Percent_BreakPar_Rank': 125, 'Year': 2019},\n",
       " {'Player': 'Julián Etulain', 'Percent_BreakPar_Rank': 127, 'Year': 2019},\n",
       " {'Player': 'Adam Svensson', 'Percent_BreakPar_Rank': 127, 'Year': 2019},\n",
       " {'Player': 'Ollie Schniederjans', 'Percent_BreakPar_Rank': 127, 'Year': 2019},\n",
       " {'Player': 'Matthew Fitzpatrick', 'Percent_BreakPar_Rank': 130, 'Year': 2019},\n",
       " {'Player': 'Kevin Streelman', 'Percent_BreakPar_Rank': 131, 'Year': 2019},\n",
       " {'Player': 'Charley Hoffman', 'Percent_BreakPar_Rank': 131, 'Year': 2019},\n",
       " {'Player': 'Matt Jones', 'Percent_BreakPar_Rank': 133, 'Year': 2019},\n",
       " {'Player': 'Martin Trainer', 'Percent_BreakPar_Rank': 134, 'Year': 2019},\n",
       " {'Player': 'Ryan Armour', 'Percent_BreakPar_Rank': 135, 'Year': 2019},\n",
       " {'Player': 'Francesco Molinari', 'Percent_BreakPar_Rank': 136, 'Year': 2019},\n",
       " {'Player': 'John Chin', 'Percent_BreakPar_Rank': 136, 'Year': 2019},\n",
       " {'Player': 'Haotong Li', 'Percent_BreakPar_Rank': 136, 'Year': 2019},\n",
       " {'Player': 'Brice Garnett', 'Percent_BreakPar_Rank': 139, 'Year': 2019},\n",
       " {'Player': 'Peter Malnati', 'Percent_BreakPar_Rank': 139, 'Year': 2019},\n",
       " {'Player': 'Scott Brown', 'Percent_BreakPar_Rank': 141, 'Year': 2019},\n",
       " {'Player': 'C.T. Pan', 'Percent_BreakPar_Rank': 141, 'Year': 2019},\n",
       " {'Player': 'Sam Burns', 'Percent_BreakPar_Rank': 143, 'Year': 2019},\n",
       " {'Player': 'Brian Stuard', 'Percent_BreakPar_Rank': 144, 'Year': 2019},\n",
       " {'Player': 'Whee Kim', 'Percent_BreakPar_Rank': 145, 'Year': 2019},\n",
       " {'Player': 'James Hahn', 'Percent_BreakPar_Rank': 146, 'Year': 2019},\n",
       " {'Player': 'Kevin Tway', 'Percent_BreakPar_Rank': 147, 'Year': 2019},\n",
       " {'Player': 'Ben Silverman', 'Percent_BreakPar_Rank': 147, 'Year': 2019},\n",
       " {'Player': 'Robert Streb', 'Percent_BreakPar_Rank': 149, 'Year': 2019},\n",
       " {'Player': 'Jason Dufner', 'Percent_BreakPar_Rank': 150, 'Year': 2019},\n",
       " {'Player': 'Brendan Steele', 'Percent_BreakPar_Rank': 151, 'Year': 2019},\n",
       " {'Player': 'Mackenzie Hughes', 'Percent_BreakPar_Rank': 151, 'Year': 2019},\n",
       " {'Player': 'Billy Horschel', 'Percent_BreakPar_Rank': 153, 'Year': 2019},\n",
       " {'Player': 'Robert Garrigus', 'Percent_BreakPar_Rank': 154, 'Year': 2019},\n",
       " {'Player': 'Stephan Jaeger', 'Percent_BreakPar_Rank': 155, 'Year': 2019},\n",
       " {'Player': 'Curtis Luck', 'Percent_BreakPar_Rank': 156, 'Year': 2019},\n",
       " {'Player': 'Jim Knous', 'Percent_BreakPar_Rank': 157, 'Year': 2019},\n",
       " {'Player': 'Chris Kirk', 'Percent_BreakPar_Rank': 158, 'Year': 2019},\n",
       " {'Player': 'Hunter Mahan', 'Percent_BreakPar_Rank': 159, 'Year': 2019},\n",
       " {'Player': 'Dylan Frittelli', 'Percent_BreakPar_Rank': 160, 'Year': 2019},\n",
       " {'Player': 'Anirban Lahiri', 'Percent_BreakPar_Rank': 161, 'Year': 2019},\n",
       " {'Player': 'Ben Crane', 'Percent_BreakPar_Rank': 162, 'Year': 2019},\n",
       " {'Player': 'Anders Albertson', 'Percent_BreakPar_Rank': 163, 'Year': 2019},\n",
       " {'Player': 'Kramer Hickok', 'Percent_BreakPar_Rank': 164, 'Year': 2019},\n",
       " {'Player': 'Carlos Ortiz', 'Percent_BreakPar_Rank': 165, 'Year': 2019},\n",
       " {'Player': 'Adam Long', 'Percent_BreakPar_Rank': 165, 'Year': 2019},\n",
       " {'Player': 'Chris Stroud', 'Percent_BreakPar_Rank': 167, 'Year': 2019},\n",
       " {'Player': 'Harris English', 'Percent_BreakPar_Rank': 168, 'Year': 2019},\n",
       " {'Player': 'Wes Roach', 'Percent_BreakPar_Rank': 169, 'Year': 2019},\n",
       " {'Player': 'Alex Prugh', 'Percent_BreakPar_Rank': 170, 'Year': 2019},\n",
       " {'Player': 'Shawn Stefani', 'Percent_BreakPar_Rank': 170, 'Year': 2019},\n",
       " {'Player': 'Danny Willett', 'Percent_BreakPar_Rank': 172, 'Year': 2019},\n",
       " {'Player': 'Derek Fathauer', 'Percent_BreakPar_Rank': 173, 'Year': 2019},\n",
       " {'Player': 'David Hearn', 'Percent_BreakPar_Rank': 174, 'Year': 2019},\n",
       " {'Player': 'Tom Hoge', 'Percent_BreakPar_Rank': 175, 'Year': 2019},\n",
       " {'Player': 'Max Homa', 'Percent_BreakPar_Rank': 176, 'Year': 2019},\n",
       " {'Player': 'Sam Saunders', 'Percent_BreakPar_Rank': 177, 'Year': 2019},\n",
       " {'Player': 'Cody Gribble', 'Percent_BreakPar_Rank': 178, 'Year': 2019},\n",
       " {'Player': 'Fabián Gómez', 'Percent_BreakPar_Rank': 179, 'Year': 2019},\n",
       " {'Player': 'Satoshi Kodaira', 'Percent_BreakPar_Rank': 180, 'Year': 2019},\n",
       " {'Player': \"Sean O'Hair\", 'Percent_BreakPar_Rank': 181, 'Year': 2019},\n",
       " {'Player': 'Jim Herman', 'Percent_BreakPar_Rank': 182, 'Year': 2019},\n",
       " {'Player': 'Joaquin Niemann', 'Percent_BreakPar_Rank': 183, 'Year': 2019},\n",
       " {'Player': 'Tyler Duncan', 'Percent_BreakPar_Rank': 183, 'Year': 2019},\n",
       " {'Player': 'Roberto Díaz', 'Percent_BreakPar_Rank': 185, 'Year': 2019},\n",
       " {'Player': 'Jimmy Walker', 'Percent_BreakPar_Rank': 185, 'Year': 2019},\n",
       " {'Player': 'Kevin Na', 'Percent_BreakPar_Rank': 187, 'Year': 2019},\n",
       " {'Player': 'Andrew Landry', 'Percent_BreakPar_Rank': 188, 'Year': 2019},\n",
       " {'Player': 'Sangmoon Bae', 'Percent_BreakPar_Rank': 189, 'Year': 2019},\n",
       " {'Player': 'Charl Schwartzel', 'Percent_BreakPar_Rank': 190, 'Year': 2019},\n",
       " {'Player': 'Alex Cejka', 'Percent_BreakPar_Rank': 191, 'Year': 2019},\n",
       " {'Player': 'Bill Haas', 'Percent_BreakPar_Rank': 192, 'Year': 2019},\n",
       " {'Player': 'Freddie Jacobson', 'Percent_BreakPar_Rank': 193, 'Year': 2019},\n",
       " {'Player': 'Ernie Els', 'Percent_BreakPar_Rank': 194, 'Year': 2019},\n",
       " {'Player': 'Martin Kaymer', 'Percent_BreakPar_Rank': 195, 'Year': 2019},\n",
       " {'Player': 'Russell Henley', 'Percent_BreakPar_Rank': 196, 'Year': 2019},\n",
       " {'Player': 'Brady Schnell', 'Percent_BreakPar_Rank': 197, 'Year': 2019},\n",
       " {'Player': 'Michael Kim', 'Percent_BreakPar_Rank': 198, 'Year': 2019},\n",
       " {'Player': 'Brandon Hagy', 'Percent_BreakPar_Rank': 199, 'Year': 2019},\n",
       " {'Player': 'Brian Harman', 'Percent_BreakPar_Rank': 200, 'Year': 2019},\n",
       " {'Player': 'Lucas Bjerregaard', 'Percent_BreakPar_Rank': 201, 'Year': 2019},\n",
       " {'Player': 'John Catlin', 'Percent_BreakPar_Rank': 202, 'Year': 2019},\n",
       " {'Player': 'Seamus Power', 'Percent_BreakPar_Rank': 203, 'Year': 2019},\n",
       " {'Player': 'John Huh', 'Percent_BreakPar_Rank': 204, 'Year': 2019},\n",
       " {'Player': 'Kyle Jones', 'Percent_BreakPar_Rank': 205, 'Year': 2019},\n",
       " {'Player': 'Chris Thompson', 'Percent_BreakPar_Rank': 206, 'Year': 2019},\n",
       " {'Player': 'Alex Noren', 'Percent_BreakPar_Rank': 207, 'Year': 2019},\n",
       " {'Player': 'Kyle Stanley', 'Percent_BreakPar_Rank': 208, 'Year': 2019},\n",
       " {'Player': 'John Senden', 'Percent_BreakPar_Rank': 209, 'Year': 2019},\n",
       " {'Player': 'Tyrone Van Aswegen', 'Percent_BreakPar_Rank': 210, 'Year': 2019},\n",
       " {'Player': 'Rod Pampling', 'Percent_BreakPar_Rank': 211, 'Year': 2019},\n",
       " {'Player': 'D.A. Points', 'Percent_BreakPar_Rank': 212, 'Year': 2019},\n",
       " {'Player': 'Joey Garber', 'Percent_BreakPar_Rank': 213, 'Year': 2019},\n",
       " {'Player': 'J.J. Henry', 'Percent_BreakPar_Rank': 214, 'Year': 2019}]"
      ]
     },
     "execution_count": 133,
     "metadata": {},
     "output_type": "execute_result"
    }
   ],
   "source": [
    "def get_driving_stats():\n",
    "    year_list = [2019]\n",
    "    List_stats = []\n",
    "    for year in year_list:\n",
    "        url ='https://www.pgatour.com/content/pgatour/stats/stat.105.y{}.eoff.t041.html'.format(year)\n",
    "        soup = BS((requests.get(url)).content, 'html.parser')\n",
    "        page = soup.find('tbody')\n",
    "        #PASTE BELOW\n",
    "        for row in page.find_all('tr'):\n",
    "            Stats = {}\n",
    "            name = (row.find('td', class_= 'player-name').get_text())\n",
    "            name = name.split('\\n')\n",
    "            rank = (row.find('td')).get_text().strip().strip('T')\n",
    "            rank = rank.split('\\n')\n",
    "            Stats['Player'] = name[1]\n",
    "            Stats['Percent_BreakPar_Rank'] = int(rank[0])\n",
    "            Stats['Year'] = int(url[56:60])\n",
    "            List_stats.append(Stats)\n",
    "    return List_stats\n",
    "\n",
    "get_driving_stats() "
   ]
  },
  {
   "cell_type": "markdown",
   "metadata": {},
   "source": [
    "# All Functions "
   ]
  },
  {
   "cell_type": "markdown",
   "metadata": {},
   "source": [
    "### AVG Score before cut"
   ]
  },
  {
   "cell_type": "code",
   "execution_count": null,
   "metadata": {},
   "outputs": [],
   "source": [
    "def get_avg_scoreb4cut(urls):\n",
    "    List_stats = []\n",
    "    for url in urls:\n",
    "        soup = BS((requests.get(url)).content, 'html.parser')\n",
    "        page = soup.find('tbody')\n",
    "        for row in page.find_all('tr'):\n",
    "            Stats = {}\n",
    "            name = (row.find('td', class_= 'player-name').get_text())\n",
    "            name = name.split('\\n')\n",
    "            Stats['Player'] = name[1]\n",
    "            Stats['Avg_scoreB4cut'] = float(row.find('td', class_= 'player-name').find_next('td').get_text())\n",
    "            Stats['Year'] = int(url[56:60])\n",
    "            List_stats.append(Stats)\n",
    "    return List_stats"
   ]
  },
  {
   "cell_type": "markdown",
   "metadata": {},
   "source": [
    "### % Par 5 birdie or better"
   ]
  },
  {
   "cell_type": "code",
   "execution_count": 94,
   "metadata": {},
   "outputs": [],
   "source": [
    "def get_par5_bird(urls):\n",
    "    List_stats = []\n",
    "    for url in urls:\n",
    "        soup = BS((requests.get(url)).content, 'html.parser')\n",
    "        page = soup.find('tbody')\n",
    "        for row in page.find_all('tr'):\n",
    "            Stats = {}\n",
    "            name = (row.find('td', class_= 'player-name').get_text())\n",
    "            name = name.split('\\n')\n",
    "            Stats['Player'] = name[1]\n",
    "            Stats['Percent_Par5_Bird'] = float(row.find('td', class_= 'hidden-small hidden-medium').find_next().get_text())\n",
    "            Stats['Year'] = int(url[56:60])\n",
    "            List_stats.append(Stats)\n",
    "    return List_stats"
   ]
  },
  {
   "cell_type": "markdown",
   "metadata": {},
   "source": [
    "### % Par 4 birdie or better"
   ]
  },
  {
   "cell_type": "code",
   "execution_count": 95,
   "metadata": {},
   "outputs": [],
   "source": [
    "def get_par4_bird(urls):\n",
    "    List_stats = []\n",
    "    for url in urls:\n",
    "        soup = BS((requests.get(url)).content, 'html.parser')\n",
    "        page = soup.find('tbody')\n",
    "        for row in page.find_all('tr'):\n",
    "            Stats = {}\n",
    "            name = (row.find('td', class_= 'player-name').get_text())\n",
    "            name = name.split('\\n')\n",
    "            Stats['Player'] = name[1]\n",
    "            Stats['Percent_Par4_Bird'] = float(row.find('td', class_= 'hidden-small hidden-medium').find_next().get_text())\n",
    "            Stats['Year'] = int(url[56:60])\n",
    "            List_stats.append(Stats)\n",
    "    return List_stats"
   ]
  },
  {
   "cell_type": "markdown",
   "metadata": {},
   "source": [
    "### % Par 3 birdie or better"
   ]
  },
  {
   "cell_type": "code",
   "execution_count": 96,
   "metadata": {},
   "outputs": [],
   "source": [
    "def get_par3_bird(urls):\n",
    "    List_stats = []\n",
    "    for url in urls:\n",
    "        soup = BS((requests.get(url)).content, 'html.parser')\n",
    "        page = soup.find('tbody')\n",
    "        for row in page.find_all('tr'):\n",
    "            Stats = {}\n",
    "            name = (row.find('td', class_= 'player-name').get_text())\n",
    "            name = name.split('\\n')\n",
    "            Stats['Player'] = name[1]\n",
    "            Stats['Percent_Par3_Bird'] = float(row.find('td', class_= 'hidden-small hidden-medium').find_next().get_text())\n",
    "            Stats['Year'] = int(url[56:60])\n",
    "            List_stats.append(Stats)\n",
    "    return List_stats"
   ]
  },
  {
   "cell_type": "markdown",
   "metadata": {},
   "source": [
    "### Official Money (std) - RANK"
   ]
  },
  {
   "cell_type": "code",
   "execution_count": 100,
   "metadata": {},
   "outputs": [],
   "source": [
    "def get_money_rank(urls):\n",
    "    List_stats = []\n",
    "    for url in urls:\n",
    "        soup = BS((requests.get(url)).content, 'html.parser')\n",
    "        page = soup.find('tbody')\n",
    "        for row in page.find_all('tr'):\n",
    "            Stats = {}\n",
    "            name = (row.find('td', class_= 'player-name').get_text())\n",
    "            name = name.split('\\n')\n",
    "            rank = (row.find('td')).get_text().strip().strip('T')\n",
    "            rank = rank.split('\\n')\n",
    "            Stats['Player'] = name[1]\n",
    "            Stats['Money_Rank'] = int(rank[0])\n",
    "            Stats['Year'] = int(url[56:60])\n",
    "            List_stats.append(Stats)\n",
    "    return List_stats"
   ]
  },
  {
   "cell_type": "markdown",
   "metadata": {},
   "source": [
    "### Average Score (std) - RANK "
   ]
  },
  {
   "cell_type": "code",
   "execution_count": null,
   "metadata": {},
   "outputs": [],
   "source": [
    "def get_avg_score_rank(urls):\n",
    "    List_stats = []\n",
    "    for url in urls:\n",
    "        soup = BS((requests.get(url)).content, 'html.parser')\n",
    "        page = soup.find('tbody')\n",
    "        for row in page.find_all('tr'):\n",
    "            Stats = {}\n",
    "            name = (row.find('td', class_= 'player-name').get_text())\n",
    "            name = name.split('\\n')\n",
    "            rank = (row.find('td')).get_text().strip().strip('T')\n",
    "            rank = rank.split('\\n')\n",
    "            Stats['Player'] = name[1]\n",
    "            Stats['Avg_Score_Rank'] = int(rank[0])\n",
    "            Stats['Year'] = int(url[56:60])\n",
    "            List_stats.append(Stats)\n",
    "    return List_stats"
   ]
  },
  {
   "cell_type": "markdown",
   "metadata": {},
   "source": [
    "### % Par Breakers (std) - RANK"
   ]
  },
  {
   "cell_type": "code",
   "execution_count": 131,
   "metadata": {},
   "outputs": [],
   "source": [
    "def get_break_par_rank(urls):\n",
    "    List_stats = []\n",
    "    for url in urls:\n",
    "        soup = BS((requests.get(url)).content, 'html.parser')\n",
    "        page = soup.find('tbody')\n",
    "        for row in page.find_all('tr'):\n",
    "            Stats = {}\n",
    "            name = (row.find('td', class_= 'player-name').get_text())\n",
    "            name = name.split('\\n')\n",
    "            rank = (row.find('td')).get_text().strip().strip('T')\n",
    "            rank = rank.split('\\n')\n",
    "            Stats['Player'] = name[1]\n",
    "            Stats['Percent_BreakPar_Rank'] = int(rank[0])\n",
    "            Stats['Year'] = int(url[56:60])\n",
    "            List_stats.append(Stats)\n",
    "    return List_stats"
   ]
  },
  {
   "cell_type": "markdown",
   "metadata": {},
   "source": [
    "### Function for TOP 10s YTD"
   ]
  },
  {
   "cell_type": "code",
   "execution_count": 49,
   "metadata": {},
   "outputs": [],
   "source": [
    "def get_top10s(urls):\n",
    "    List_stats = []\n",
    "    for url in urls:\n",
    "        soup = BS((requests.get(url)).content, 'html.parser')\n",
    "        page = soup.find('tbody')\n",
    "        for row in page.find_all('tr'):\n",
    "            Stats = {}\n",
    "            name = (row.find('td', class_= 'player-name').get_text())\n",
    "            name = name.split('\\n')\n",
    "            Stats['Player'] = name[1]\n",
    "            Stats[\"Top_10's\"] = float(row.find('td', class_= 'hidden-small hidden-medium').find_next().get_text())\n",
    "            Stats['Year'] = int(url[56:60])\n",
    "            List_stats.append(Stats)\n",
    "    return List_stats"
   ]
  },
  {
   "cell_type": "markdown",
   "metadata": {},
   "source": [
    "### Function for Greens Hit Percents YTD"
   ]
  },
  {
   "cell_type": "code",
   "execution_count": 48,
   "metadata": {},
   "outputs": [],
   "source": [
    "def get_greens_hit(urls):\n",
    "    List_stats = []\n",
    "    for url in urls:\n",
    "        soup = BS((requests.get(url)).content, 'html.parser')\n",
    "        page = soup.find('tbody')\n",
    "        for row in page.find_all('tr'):\n",
    "            Stats = {}\n",
    "            name = (row.find('td', class_= 'player-name').get_text())\n",
    "            name = name.split('\\n')\n",
    "            Stats['Player'] = name[1]\n",
    "            Stats['Percent_Greens_Hit'] = float(row.find('td', class_= 'hidden-small hidden-medium').find_next().get_text())\n",
    "            Stats['Year'] = int(url[56:60])\n",
    "            List_stats.append(Stats)\n",
    "    return List_stats"
   ]
  },
  {
   "cell_type": "markdown",
   "metadata": {},
   "source": [
    "### Function for Grabbing Percent_Fairway_Hit YTD"
   ]
  },
  {
   "cell_type": "code",
   "execution_count": 47,
   "metadata": {},
   "outputs": [],
   "source": [
    "def get_fairway_stats(urls):\n",
    "    List_stats = []\n",
    "    for url in urls:\n",
    "        soup = BS((requests.get(url)).content, 'html.parser')\n",
    "        page = soup.find('tbody')\n",
    "        for row in page.find_all('tr'):\n",
    "            Stats = {}\n",
    "            name = (row.find('td', class_= 'player-name').get_text())\n",
    "            name = name.split('\\n')\n",
    "            Stats['Player'] = name[1]\n",
    "            Stats['Percent_Fairway_Hit'] = float(row.find('td', class_= 'hidden-small hidden-medium').find_next().get_text())\n",
    "            Stats['Year'] = int(url[56:60])\n",
    "            List_stats.append(Stats)\n",
    "    return List_stats\n",
    "\n"
   ]
  },
  {
   "cell_type": "markdown",
   "metadata": {},
   "source": [
    "### Function For Grabbing Driving Distance Stats YTD"
   ]
  },
  {
   "cell_type": "code",
   "execution_count": 563,
   "metadata": {},
   "outputs": [],
   "source": [
    "def get_driving_stats(urls):\n",
    "    List_stats = []\n",
    "    for url in urls:\n",
    "        soup = BS((requests.get(url)).content, 'html.parser')\n",
    "        page = soup.find('tbody')\n",
    "        for row in page.find_all('tr'):\n",
    "            Stats = {}\n",
    "            name = (row.find('td', class_= 'player-name').get_text())\n",
    "            name = name.split('\\n')\n",
    "            rank = (row.find('td')).get_text().strip().strip('T')\n",
    "            rank = rank.split('\\n')\n",
    "            Stats['Player'] = name[1]\n",
    "            Stats['Driving_Rank'] = int(rank[0])\n",
    "            Stats['Average_Drive_Distance'] = float(row.find('td', class_= 'hidden-small hidden-medium').find_next().get_text())\n",
    "            Stats['Year'] = int(url[56:60])\n",
    "            List_stats.append(Stats)\n",
    "    return List_stats\n"
   ]
  },
  {
   "cell_type": "markdown",
   "metadata": {},
   "source": [
    "# Masters top 10 and top 25 "
   ]
  },
  {
   "cell_type": "code",
   "execution_count": 1012,
   "metadata": {},
   "outputs": [],
   "source": [
    "# year_list = []\n",
    "# years = range(1980,2020)\n",
    "# for year in years:\n",
    "#     year_list.append(year)   \n",
    "# url ='https://www.pgatour.com/tournaments/masters-tournament/past-results.{year}.html'.format(year)"
   ]
  },
  {
   "cell_type": "code",
   "execution_count": 258,
   "metadata": {},
   "outputs": [],
   "source": [
    "top10 = pd.read_excel('MastersTop10_1980-2019.xlsx')"
   ]
  },
  {
   "cell_type": "code",
   "execution_count": 259,
   "metadata": {},
   "outputs": [
    {
     "data": {
      "text/html": [
       "<div>\n",
       "<style scoped>\n",
       "    .dataframe tbody tr th:only-of-type {\n",
       "        vertical-align: middle;\n",
       "    }\n",
       "\n",
       "    .dataframe tbody tr th {\n",
       "        vertical-align: top;\n",
       "    }\n",
       "\n",
       "    .dataframe thead th {\n",
       "        text-align: right;\n",
       "    }\n",
       "</style>\n",
       "<table border=\"1\" class=\"dataframe\">\n",
       "  <thead>\n",
       "    <tr style=\"text-align: right;\">\n",
       "      <th></th>\n",
       "      <th>Year</th>\n",
       "      <th>Player</th>\n",
       "      <th>Masters_Top_10</th>\n",
       "    </tr>\n",
       "  </thead>\n",
       "  <tbody>\n",
       "    <tr>\n",
       "      <td>0</td>\n",
       "      <td>1980</td>\n",
       "      <td>Seve Ballesteros</td>\n",
       "      <td>1</td>\n",
       "    </tr>\n",
       "    <tr>\n",
       "      <td>1</td>\n",
       "      <td>1980</td>\n",
       "      <td>Gibby Gilbert</td>\n",
       "      <td>1</td>\n",
       "    </tr>\n",
       "    <tr>\n",
       "      <td>2</td>\n",
       "      <td>1980</td>\n",
       "      <td>Jack Newton</td>\n",
       "      <td>1</td>\n",
       "    </tr>\n",
       "    <tr>\n",
       "      <td>3</td>\n",
       "      <td>1980</td>\n",
       "      <td>Hubert Green</td>\n",
       "      <td>1</td>\n",
       "    </tr>\n",
       "    <tr>\n",
       "      <td>4</td>\n",
       "      <td>1980</td>\n",
       "      <td>David Graham</td>\n",
       "      <td>1</td>\n",
       "    </tr>\n",
       "  </tbody>\n",
       "</table>\n",
       "</div>"
      ],
      "text/plain": [
       "   Year            Player  Masters_Top_10\n",
       "0  1980  Seve Ballesteros               1\n",
       "1  1980     Gibby Gilbert               1\n",
       "2  1980       Jack Newton               1\n",
       "3  1980      Hubert Green               1\n",
       "4  1980      David Graham               1"
      ]
     },
     "execution_count": 259,
     "metadata": {},
     "output_type": "execute_result"
    }
   ],
   "source": [
    "top10.head()"
   ]
  },
  {
   "cell_type": "code",
   "execution_count": 135,
   "metadata": {},
   "outputs": [],
   "source": [
    "top25 = pd.read_excel('MastersTop25_1980-2019.xlsx')"
   ]
  },
  {
   "cell_type": "code",
   "execution_count": 39,
   "metadata": {},
   "outputs": [
    {
     "name": "stdout",
     "output_type": "stream",
     "text": [
      "Percent of Top 25s is 30 percent\n"
     ]
    }
   ],
   "source": [
    "print('Percent of Top 25s is 30 percent')"
   ]
  },
  {
   "cell_type": "code",
   "execution_count": 32,
   "metadata": {},
   "outputs": [
    {
     "name": "stdout",
     "output_type": "stream",
     "text": [
      "Percent of Top 10s is 12 percent\n"
     ]
    }
   ],
   "source": [
    "print('Percent of Top 10s is 12 percent')"
   ]
  },
  {
   "cell_type": "markdown",
   "metadata": {},
   "source": [
    "# URLs 1980-2019 For Each Stat Leading Up To Masters Tournament"
   ]
  },
  {
   "cell_type": "code",
   "execution_count": 123,
   "metadata": {},
   "outputs": [],
   "source": [
    "Driving_Distance_urls = ['https://www.pgatour.com/content/pgatour/stats/stat.101.y1980.eoff.t013.html',\n",
    "'https://www.pgatour.com/content/pgatour/stats/stat.101.y1981.eoff.t013.html',\n",
    "'https://www.pgatour.com/content/pgatour/stats/stat.101.y1982.eoff.t013.html',\n",
    "'https://www.pgatour.com/content/pgatour/stats/stat.101.y1983.eoff.t013.html',\n",
    "'https://www.pgatour.com/content/pgatour/stats/stat.101.y1984.eoff.t013.html',\n",
    "'https://www.pgatour.com/content/pgatour/stats/stat.101.y1985.eoff.t013.html',\n",
    "'https://www.pgatour.com/content/pgatour/stats/stat.101.y1986.eoff.t054.html',\n",
    "'https://www.pgatour.com/content/pgatour/stats/stat.101.y1987.eoff.t054.html',\n",
    "'https://www.pgatour.com/content/pgatour/stats/stat.101.y1988.eoff.t054.html',\n",
    "'https://www.pgatour.com/content/pgatour/stats/stat.101.y1989.eoff.t054.html',\n",
    "'https://www.pgatour.com/content/pgatour/stats/stat.101.y1990.eoff.t054.html',\n",
    "'https://www.pgatour.com/content/pgatour/stats/stat.101.y1991.eoff.t054.html',\n",
    "'https://www.pgatour.com/content/pgatour/stats/stat.101.y1992.eoff.t054.html',\n",
    "'https://www.pgatour.com/content/pgatour/stats/stat.101.y1993.eoff.t054.html',\n",
    "'https://www.pgatour.com/content/pgatour/stats/stat.101.y1994.eoff.t018.html',\n",
    "'https://www.pgatour.com/content/pgatour/stats/stat.101.y1995.eoff.t018.html',\n",
    "'https://www.pgatour.com/content/pgatour/stats/stat.101.y1996.eoff.t022.html',\n",
    "'https://www.pgatour.com/content/pgatour/stats/stat.101.y1997.eoff.t018.html',\n",
    "'https://www.pgatour.com/content/pgatour/stats/stat.101.y1998.eoff.t018.html',\n",
    "'https://www.pgatour.com/content/pgatour/stats/stat.101.y1999.eoff.t022.html',\n",
    "'https://www.pgatour.com/content/pgatour/stats/stat.101.y2000.eoff.t022.html',\n",
    "'https://www.pgatour.com/content/pgatour/stats/stat.101.y2001.eoff.t022.html',\n",
    "'https://www.pgatour.com/content/pgatour/stats/stat.101.y2002.eoff.t022.html',\n",
    "'https://www.pgatour.com/content/pgatour/stats/stat.101.y2003.eoff.t022.html',\n",
    "'https://www.pgatour.com/content/pgatour/stats/stat.101.y2004.eoff.t022.html',\n",
    "'https://www.pgatour.com/content/pgatour/stats/stat.101.y2005.eoff.t022.html',\n",
    "'https://www.pgatour.com/content/pgatour/stats/stat.101.y2006.eoff.t022.html',\n",
    "'https://www.pgatour.com/content/pgatour/stats/stat.101.y2007.eoff.t020.html',\n",
    "'https://www.pgatour.com/content/pgatour/stats/stat.101.y2008.eoff.t020.html',\n",
    "'https://www.pgatour.com/content/pgatour/stats/stat.101.y2009.eoff.t020.html',\n",
    "'https://www.pgatour.com/content/pgatour/stats/stat.101.y2010.eoff.t020.html',\n",
    "'https://www.pgatour.com/content/pgatour/stats/stat.101.y2011.eoff.t020.html',\n",
    "'https://www.pgatour.com/content/pgatour/stats/stat.101.y2012.eoff.t020.html',\n",
    "'https://www.pgatour.com/content/pgatour/stats/stat.101.y2013.eoff.t041.html',\n",
    "'https://www.pgatour.com/content/pgatour/stats/stat.101.y2014.eoff.t020.html',\n",
    "'https://www.pgatour.com/content/pgatour/stats/stat.101.y2015.eoff.t020.html',\n",
    "'https://www.pgatour.com/content/pgatour/stats/stat.101.y2016.eoff.t020.html',\n",
    "'https://www.pgatour.com/content/pgatour/stats/stat.101.y2017.eoff.t020.html',\n",
    "'https://www.pgatour.com/content/pgatour/stats/stat.101.y2018.eoff.t020.html',\n",
    "'https://www.pgatour.com/content/pgatour/stats/stat.101.y2019.eoff.t041.html']"
   ]
  },
  {
   "cell_type": "code",
   "execution_count": 53,
   "metadata": {},
   "outputs": [],
   "source": [
    "Fairway_Percent_URLs = []\n",
    "for url in Driving_Distance_urls:\n",
    "    Fairway_Percent_URLs.append(url.replace('101', '102'))"
   ]
  },
  {
   "cell_type": "code",
   "execution_count": 54,
   "metadata": {},
   "outputs": [],
   "source": [
    "Greens_Percent_URLs = []\n",
    "for url in Driving_Distance_urls:\n",
    "    Greens_Percent_URLs.append(url.replace('101', '103'))"
   ]
  },
  {
   "cell_type": "code",
   "execution_count": 55,
   "metadata": {},
   "outputs": [],
   "source": [
    "Top_10_URLs = []\n",
    "for url in Driving_Distance_urls:\n",
    "    Top_10_URLs.append(url.replace('101', '138'))"
   ]
  },
  {
   "cell_type": "code",
   "execution_count": 56,
   "metadata": {},
   "outputs": [],
   "source": [
    "Par_Breakers_URLs = []\n",
    "for url in Driving_Distance_urls:\n",
    "    Par_Breakers_URLs.append(url.replace('101', '105'))"
   ]
  },
  {
   "cell_type": "code",
   "execution_count": 124,
   "metadata": {},
   "outputs": [],
   "source": [
    "Average_Score = []\n",
    "for url in Driving_Distance_urls:\n",
    "    Average_Score.append(url.replace('101', '108'))"
   ]
  },
  {
   "cell_type": "code",
   "execution_count": 58,
   "metadata": {},
   "outputs": [],
   "source": [
    "Official_Money = []\n",
    "for url in Driving_Distance_urls:\n",
    "    Official_Money.append(url.replace('101', '109'))"
   ]
  },
  {
   "cell_type": "code",
   "execution_count": 59,
   "metadata": {},
   "outputs": [],
   "source": [
    "Par3_Birdie = []\n",
    "for url in Driving_Distance_urls:\n",
    "    Par3_Birdie.append(url.replace('101', '112'))"
   ]
  },
  {
   "cell_type": "code",
   "execution_count": 60,
   "metadata": {},
   "outputs": [],
   "source": [
    "Par4_Birdie = []\n",
    "for url in Driving_Distance_urls:\n",
    "    Par4_Birdie.append(url.replace('101', '113'))"
   ]
  },
  {
   "cell_type": "code",
   "execution_count": 61,
   "metadata": {},
   "outputs": [],
   "source": [
    "Par5_Birdie = []\n",
    "for url in Driving_Distance_urls:\n",
    "    Par5_Birdie.append(url.replace('101', '114'))"
   ]
  },
  {
   "cell_type": "code",
   "execution_count": 62,
   "metadata": {},
   "outputs": [],
   "source": [
    "Avg_Score_b4_cut = []\n",
    "for url in Driving_Distance_urls:\n",
    "    Avg_Score_b4_cut.append(url.replace('101', '116'))"
   ]
  },
  {
   "cell_type": "code",
   "execution_count": 576,
   "metadata": {},
   "outputs": [],
   "source": [
    "# Putting_Average_URLs = []\n",
    "# for url in Driving_Distance_urls:\n",
    "#     Putting_Average_URLs.append(url.replace('101', '104'))"
   ]
  },
  {
   "cell_type": "code",
   "execution_count": 578,
   "metadata": {},
   "outputs": [],
   "source": [
    "# Consecutive_Greens_URLS = []\n",
    "# for url in Driving_Distance_urls:\n",
    "#     Consecutive_Greens_URLS.append(url.replace('101', '298'))"
   ]
  },
  {
   "cell_type": "code",
   "execution_count": 580,
   "metadata": {},
   "outputs": [],
   "source": [
    "# Consecutive_Fairways_URLs = []\n",
    "# for url in Driving_Distance_urls:\n",
    "#     Consecutive_Fairways_URLs.append(url.replace('101', '297'))"
   ]
  }
 ],
 "metadata": {
  "kernelspec": {
   "display_name": "Python 3",
   "language": "python",
   "name": "python3"
  },
  "language_info": {
   "codemirror_mode": {
    "name": "ipython",
    "version": 3
   },
   "file_extension": ".py",
   "mimetype": "text/x-python",
   "name": "python",
   "nbconvert_exporter": "python",
   "pygments_lexer": "ipython3",
   "version": "3.7.4"
  }
 },
 "nbformat": 4,
 "nbformat_minor": 2
}
