{
 "cells": [
  {
   "cell_type": "code",
   "execution_count": 103,
   "metadata": {},
   "outputs": [],
   "source": [
    "import funcs \n",
    "import pandas as pd\n",
    "from functools import reduce"
   ]
  },
  {
   "cell_type": "code",
   "execution_count": 17,
   "metadata": {},
   "outputs": [],
   "source": [
    "Driving_Distance_urls = funcs.Driving_Distance_urls"
   ]
  },
  {
   "cell_type": "markdown",
   "metadata": {},
   "source": [
    "# URL lists"
   ]
  },
  {
   "cell_type": "code",
   "execution_count": 18,
   "metadata": {},
   "outputs": [],
   "source": [
    "Fairway_Percent_URLs = []\n",
    "for url in Driving_Distance_urls:\n",
    "    Fairway_Percent_URLs.append(url.replace('101', '102'))"
   ]
  },
  {
   "cell_type": "code",
   "execution_count": 19,
   "metadata": {},
   "outputs": [],
   "source": [
    "Greens_Percent_URLs = []\n",
    "for url in Driving_Distance_urls:\n",
    "    Greens_Percent_URLs.append(url.replace('101', '103'))"
   ]
  },
  {
   "cell_type": "code",
   "execution_count": 20,
   "metadata": {},
   "outputs": [],
   "source": [
    "Top_10_URLs = []\n",
    "for url in Driving_Distance_urls:\n",
    "    Top_10_URLs.append(url.replace('101', '138'))"
   ]
  },
  {
   "cell_type": "code",
   "execution_count": 21,
   "metadata": {},
   "outputs": [],
   "source": [
    "Par_Breakers_URLs = []\n",
    "for url in Driving_Distance_urls:\n",
    "    Par_Breakers_URLs.append(url.replace('101', '105'))"
   ]
  },
  {
   "cell_type": "code",
   "execution_count": 22,
   "metadata": {},
   "outputs": [],
   "source": [
    "Average_Score = []\n",
    "for url in Driving_Distance_urls:\n",
    "    Average_Score.append(url.replace('101', '108'))"
   ]
  },
  {
   "cell_type": "code",
   "execution_count": 23,
   "metadata": {},
   "outputs": [],
   "source": [
    "Official_Money = []\n",
    "for url in Driving_Distance_urls:\n",
    "    Official_Money.append(url.replace('101', '109'))"
   ]
  },
  {
   "cell_type": "code",
   "execution_count": 24,
   "metadata": {},
   "outputs": [],
   "source": [
    "Par3_Birdie = []\n",
    "for url in Driving_Distance_urls:\n",
    "    Par3_Birdie.append(url.replace('101', '112'))"
   ]
  },
  {
   "cell_type": "code",
   "execution_count": 25,
   "metadata": {},
   "outputs": [],
   "source": [
    "Par4_Birdie = []\n",
    "for url in Driving_Distance_urls:\n",
    "    Par4_Birdie.append(url.replace('101', '113'))"
   ]
  },
  {
   "cell_type": "code",
   "execution_count": 26,
   "metadata": {},
   "outputs": [],
   "source": [
    "Par5_Birdie = []\n",
    "for url in Driving_Distance_urls:\n",
    "    Par5_Birdie.append(url.replace('101', '114'))"
   ]
  },
  {
   "cell_type": "code",
   "execution_count": 27,
   "metadata": {},
   "outputs": [],
   "source": [
    "Avg_Score_b4_cut = []\n",
    "for url in Driving_Distance_urls:\n",
    "    Avg_Score_b4_cut.append(url.replace('101', '116'))"
   ]
  },
  {
   "cell_type": "markdown",
   "metadata": {},
   "source": [
    "# Dataframes"
   ]
  },
  {
   "cell_type": "markdown",
   "metadata": {},
   "source": [
    "# DrivingStats df1"
   ]
  },
  {
   "cell_type": "code",
   "execution_count": 31,
   "metadata": {},
   "outputs": [],
   "source": [
    "Driving_Stats = funcs.get_driving_stats(Driving_Distance_urls)"
   ]
  },
  {
   "cell_type": "code",
   "execution_count": 39,
   "metadata": {},
   "outputs": [],
   "source": [
    "df1 = pd.DataFrame(Driving_Stats)"
   ]
  },
  {
   "cell_type": "code",
   "execution_count": 42,
   "metadata": {
    "scrolled": true
   },
   "outputs": [
    {
     "data": {
      "text/html": [
       "<div>\n",
       "<style scoped>\n",
       "    .dataframe tbody tr th:only-of-type {\n",
       "        vertical-align: middle;\n",
       "    }\n",
       "\n",
       "    .dataframe tbody tr th {\n",
       "        vertical-align: top;\n",
       "    }\n",
       "\n",
       "    .dataframe thead th {\n",
       "        text-align: right;\n",
       "    }\n",
       "</style>\n",
       "<table border=\"1\" class=\"dataframe\">\n",
       "  <thead>\n",
       "    <tr style=\"text-align: right;\">\n",
       "      <th></th>\n",
       "      <th>Player</th>\n",
       "      <th>Driving_Rank</th>\n",
       "      <th>Average_Drive_Distance</th>\n",
       "      <th>Year</th>\n",
       "    </tr>\n",
       "  </thead>\n",
       "  <tbody>\n",
       "    <tr>\n",
       "      <td>0</td>\n",
       "      <td>Fuzzy Zoeller</td>\n",
       "      <td>1</td>\n",
       "      <td>267.4</td>\n",
       "      <td>1980</td>\n",
       "    </tr>\n",
       "    <tr>\n",
       "      <td>1</td>\n",
       "      <td>Barney Thompson</td>\n",
       "      <td>2</td>\n",
       "      <td>267.1</td>\n",
       "      <td>1980</td>\n",
       "    </tr>\n",
       "    <tr>\n",
       "      <td>2</td>\n",
       "      <td>J.C. Snead</td>\n",
       "      <td>3</td>\n",
       "      <td>266.9</td>\n",
       "      <td>1980</td>\n",
       "    </tr>\n",
       "    <tr>\n",
       "      <td>3</td>\n",
       "      <td>Buddy Gardner</td>\n",
       "      <td>4</td>\n",
       "      <td>266.8</td>\n",
       "      <td>1980</td>\n",
       "    </tr>\n",
       "    <tr>\n",
       "      <td>4</td>\n",
       "      <td>Jack Nicklaus</td>\n",
       "      <td>5</td>\n",
       "      <td>265.9</td>\n",
       "      <td>1980</td>\n",
       "    </tr>\n",
       "  </tbody>\n",
       "</table>\n",
       "</div>"
      ],
      "text/plain": [
       "            Player  Driving_Rank  Average_Drive_Distance  Year\n",
       "0    Fuzzy Zoeller             1                   267.4  1980\n",
       "1  Barney Thompson             2                   267.1  1980\n",
       "2       J.C. Snead             3                   266.9  1980\n",
       "3    Buddy Gardner             4                   266.8  1980\n",
       "4    Jack Nicklaus             5                   265.9  1980"
      ]
     },
     "execution_count": 42,
     "metadata": {},
     "output_type": "execute_result"
    }
   ],
   "source": [
    "df1.head()"
   ]
  },
  {
   "cell_type": "markdown",
   "metadata": {},
   "source": [
    "# FairwayStats df2"
   ]
  },
  {
   "cell_type": "code",
   "execution_count": 55,
   "metadata": {},
   "outputs": [],
   "source": [
    "Fairway = funcs.get_fairway_stats(Fairway_Percent_URLs)"
   ]
  },
  {
   "cell_type": "code",
   "execution_count": 56,
   "metadata": {},
   "outputs": [],
   "source": [
    "df2 = pd.DataFrame(Fairway)"
   ]
  },
  {
   "cell_type": "code",
   "execution_count": 62,
   "metadata": {},
   "outputs": [
    {
     "data": {
      "text/html": [
       "<div>\n",
       "<style scoped>\n",
       "    .dataframe tbody tr th:only-of-type {\n",
       "        vertical-align: middle;\n",
       "    }\n",
       "\n",
       "    .dataframe tbody tr th {\n",
       "        vertical-align: top;\n",
       "    }\n",
       "\n",
       "    .dataframe thead th {\n",
       "        text-align: right;\n",
       "    }\n",
       "</style>\n",
       "<table border=\"1\" class=\"dataframe\">\n",
       "  <thead>\n",
       "    <tr style=\"text-align: right;\">\n",
       "      <th></th>\n",
       "      <th>Player</th>\n",
       "      <th>Percent_Fairway_Hit</th>\n",
       "      <th>Year</th>\n",
       "    </tr>\n",
       "  </thead>\n",
       "  <tbody>\n",
       "    <tr>\n",
       "      <td>0</td>\n",
       "      <td>Mike Reid</td>\n",
       "      <td>80.82</td>\n",
       "      <td>1980</td>\n",
       "    </tr>\n",
       "    <tr>\n",
       "      <td>1</td>\n",
       "      <td>Calvin Peete</td>\n",
       "      <td>79.03</td>\n",
       "      <td>1980</td>\n",
       "    </tr>\n",
       "    <tr>\n",
       "      <td>2</td>\n",
       "      <td>Bill Rogers</td>\n",
       "      <td>78.40</td>\n",
       "      <td>1980</td>\n",
       "    </tr>\n",
       "    <tr>\n",
       "      <td>3</td>\n",
       "      <td>Gene Littler</td>\n",
       "      <td>75.66</td>\n",
       "      <td>1980</td>\n",
       "    </tr>\n",
       "    <tr>\n",
       "      <td>4</td>\n",
       "      <td>Hubert Green</td>\n",
       "      <td>75.62</td>\n",
       "      <td>1980</td>\n",
       "    </tr>\n",
       "  </tbody>\n",
       "</table>\n",
       "</div>"
      ],
      "text/plain": [
       "         Player  Percent_Fairway_Hit  Year\n",
       "0     Mike Reid                80.82  1980\n",
       "1  Calvin Peete                79.03  1980\n",
       "2   Bill Rogers                78.40  1980\n",
       "3  Gene Littler                75.66  1980\n",
       "4  Hubert Green                75.62  1980"
      ]
     },
     "execution_count": 62,
     "metadata": {},
     "output_type": "execute_result"
    }
   ],
   "source": [
    "df2.head()"
   ]
  },
  {
   "cell_type": "markdown",
   "metadata": {},
   "source": [
    "# GreenStats df3"
   ]
  },
  {
   "cell_type": "code",
   "execution_count": 58,
   "metadata": {},
   "outputs": [],
   "source": [
    "Greens = funcs.get_greens_hit(Greens_Percent_URLs)"
   ]
  },
  {
   "cell_type": "code",
   "execution_count": 60,
   "metadata": {},
   "outputs": [],
   "source": [
    "df3 = pd.DataFrame(Greens)"
   ]
  },
  {
   "cell_type": "code",
   "execution_count": 101,
   "metadata": {},
   "outputs": [
    {
     "data": {
      "text/html": [
       "<div>\n",
       "<style scoped>\n",
       "    .dataframe tbody tr th:only-of-type {\n",
       "        vertical-align: middle;\n",
       "    }\n",
       "\n",
       "    .dataframe tbody tr th {\n",
       "        vertical-align: top;\n",
       "    }\n",
       "\n",
       "    .dataframe thead th {\n",
       "        text-align: right;\n",
       "    }\n",
       "</style>\n",
       "<table border=\"1\" class=\"dataframe\">\n",
       "  <thead>\n",
       "    <tr style=\"text-align: right;\">\n",
       "      <th></th>\n",
       "      <th>Player</th>\n",
       "      <th>Percent_Greens_Hit</th>\n",
       "      <th>Year</th>\n",
       "    </tr>\n",
       "  </thead>\n",
       "  <tbody>\n",
       "    <tr>\n",
       "      <td>0</td>\n",
       "      <td>Mike Reid</td>\n",
       "      <td>71.11</td>\n",
       "      <td>1980</td>\n",
       "    </tr>\n",
       "    <tr>\n",
       "      <td>1</td>\n",
       "      <td>John Mahaffey</td>\n",
       "      <td>70.99</td>\n",
       "      <td>1980</td>\n",
       "    </tr>\n",
       "    <tr>\n",
       "      <td>2</td>\n",
       "      <td>Jack Nicklaus</td>\n",
       "      <td>70.83</td>\n",
       "      <td>1980</td>\n",
       "    </tr>\n",
       "    <tr>\n",
       "      <td>3</td>\n",
       "      <td>Larry Nelson</td>\n",
       "      <td>70.51</td>\n",
       "      <td>1980</td>\n",
       "    </tr>\n",
       "    <tr>\n",
       "      <td>4</td>\n",
       "      <td>Mark Pfeil</td>\n",
       "      <td>69.81</td>\n",
       "      <td>1980</td>\n",
       "    </tr>\n",
       "  </tbody>\n",
       "</table>\n",
       "</div>"
      ],
      "text/plain": [
       "          Player  Percent_Greens_Hit  Year\n",
       "0      Mike Reid               71.11  1980\n",
       "1  John Mahaffey               70.99  1980\n",
       "2  Jack Nicklaus               70.83  1980\n",
       "3   Larry Nelson               70.51  1980\n",
       "4     Mark Pfeil               69.81  1980"
      ]
     },
     "execution_count": 101,
     "metadata": {},
     "output_type": "execute_result"
    }
   ],
   "source": [
    "df3.head()"
   ]
  },
  {
   "cell_type": "markdown",
   "metadata": {},
   "source": [
    "# Top10Stats df4"
   ]
  },
  {
   "cell_type": "code",
   "execution_count": 63,
   "metadata": {},
   "outputs": [],
   "source": [
    "T10s = funcs.get_top10s(Top_10_URLs)"
   ]
  },
  {
   "cell_type": "code",
   "execution_count": 66,
   "metadata": {},
   "outputs": [],
   "source": [
    "df4 = pd.DataFrame(T10s)"
   ]
  },
  {
   "cell_type": "code",
   "execution_count": 69,
   "metadata": {},
   "outputs": [
    {
     "data": {
      "text/html": [
       "<div>\n",
       "<style scoped>\n",
       "    .dataframe tbody tr th:only-of-type {\n",
       "        vertical-align: middle;\n",
       "    }\n",
       "\n",
       "    .dataframe tbody tr th {\n",
       "        vertical-align: top;\n",
       "    }\n",
       "\n",
       "    .dataframe thead th {\n",
       "        text-align: right;\n",
       "    }\n",
       "</style>\n",
       "<table border=\"1\" class=\"dataframe\">\n",
       "  <thead>\n",
       "    <tr style=\"text-align: right;\">\n",
       "      <th></th>\n",
       "      <th>Player</th>\n",
       "      <th>Top_10's</th>\n",
       "      <th>Year</th>\n",
       "    </tr>\n",
       "  </thead>\n",
       "  <tbody>\n",
       "    <tr>\n",
       "      <td>0</td>\n",
       "      <td>Raymond Floyd</td>\n",
       "      <td>5.0</td>\n",
       "      <td>1980</td>\n",
       "    </tr>\n",
       "    <tr>\n",
       "      <td>1</td>\n",
       "      <td>Tom Watson</td>\n",
       "      <td>5.0</td>\n",
       "      <td>1980</td>\n",
       "    </tr>\n",
       "    <tr>\n",
       "      <td>2</td>\n",
       "      <td>Fuzzy Zoeller</td>\n",
       "      <td>4.0</td>\n",
       "      <td>1980</td>\n",
       "    </tr>\n",
       "    <tr>\n",
       "      <td>3</td>\n",
       "      <td>Keith Fergus</td>\n",
       "      <td>4.0</td>\n",
       "      <td>1980</td>\n",
       "    </tr>\n",
       "    <tr>\n",
       "      <td>4</td>\n",
       "      <td>George Burns</td>\n",
       "      <td>4.0</td>\n",
       "      <td>1980</td>\n",
       "    </tr>\n",
       "  </tbody>\n",
       "</table>\n",
       "</div>"
      ],
      "text/plain": [
       "          Player  Top_10's  Year\n",
       "0  Raymond Floyd       5.0  1980\n",
       "1     Tom Watson       5.0  1980\n",
       "2  Fuzzy Zoeller       4.0  1980\n",
       "3   Keith Fergus       4.0  1980\n",
       "4   George Burns       4.0  1980"
      ]
     },
     "execution_count": 69,
     "metadata": {},
     "output_type": "execute_result"
    }
   ],
   "source": [
    "df4.head()"
   ]
  },
  {
   "cell_type": "markdown",
   "metadata": {},
   "source": [
    "# ParBreakStats df5"
   ]
  },
  {
   "cell_type": "code",
   "execution_count": 71,
   "metadata": {},
   "outputs": [],
   "source": [
    "parbreak = funcs.get_break_par_rank(Par_Breakers_URLs)"
   ]
  },
  {
   "cell_type": "code",
   "execution_count": 72,
   "metadata": {},
   "outputs": [],
   "source": [
    "df5 = pd.DataFrame(parbreak)"
   ]
  },
  {
   "cell_type": "code",
   "execution_count": 73,
   "metadata": {},
   "outputs": [
    {
     "data": {
      "text/html": [
       "<div>\n",
       "<style scoped>\n",
       "    .dataframe tbody tr th:only-of-type {\n",
       "        vertical-align: middle;\n",
       "    }\n",
       "\n",
       "    .dataframe tbody tr th {\n",
       "        vertical-align: top;\n",
       "    }\n",
       "\n",
       "    .dataframe thead th {\n",
       "        text-align: right;\n",
       "    }\n",
       "</style>\n",
       "<table border=\"1\" class=\"dataframe\">\n",
       "  <thead>\n",
       "    <tr style=\"text-align: right;\">\n",
       "      <th></th>\n",
       "      <th>Player</th>\n",
       "      <th>Percent_BreakPar_Rank</th>\n",
       "      <th>Year</th>\n",
       "    </tr>\n",
       "  </thead>\n",
       "  <tbody>\n",
       "    <tr>\n",
       "      <td>0</td>\n",
       "      <td>Andy Bean</td>\n",
       "      <td>1</td>\n",
       "      <td>1980</td>\n",
       "    </tr>\n",
       "    <tr>\n",
       "      <td>1</td>\n",
       "      <td>Lee Trevino</td>\n",
       "      <td>2</td>\n",
       "      <td>1980</td>\n",
       "    </tr>\n",
       "    <tr>\n",
       "      <td>2</td>\n",
       "      <td>Tom Watson</td>\n",
       "      <td>3</td>\n",
       "      <td>1980</td>\n",
       "    </tr>\n",
       "    <tr>\n",
       "      <td>3</td>\n",
       "      <td>Tom Purtzer</td>\n",
       "      <td>4</td>\n",
       "      <td>1980</td>\n",
       "    </tr>\n",
       "    <tr>\n",
       "      <td>4</td>\n",
       "      <td>Larry Nelson</td>\n",
       "      <td>5</td>\n",
       "      <td>1980</td>\n",
       "    </tr>\n",
       "  </tbody>\n",
       "</table>\n",
       "</div>"
      ],
      "text/plain": [
       "         Player  Percent_BreakPar_Rank  Year\n",
       "0     Andy Bean                      1  1980\n",
       "1   Lee Trevino                      2  1980\n",
       "2    Tom Watson                      3  1980\n",
       "3   Tom Purtzer                      4  1980\n",
       "4  Larry Nelson                      5  1980"
      ]
     },
     "execution_count": 73,
     "metadata": {},
     "output_type": "execute_result"
    }
   ],
   "source": [
    "df5.head()"
   ]
  },
  {
   "cell_type": "markdown",
   "metadata": {},
   "source": [
    "# AvgScore df6"
   ]
  },
  {
   "cell_type": "code",
   "execution_count": 74,
   "metadata": {},
   "outputs": [],
   "source": [
    "score = funcs.get_avg_score_rank(Average_Score)"
   ]
  },
  {
   "cell_type": "code",
   "execution_count": 75,
   "metadata": {},
   "outputs": [],
   "source": [
    "df6 = pd.DataFrame(score)"
   ]
  },
  {
   "cell_type": "code",
   "execution_count": 76,
   "metadata": {},
   "outputs": [
    {
     "data": {
      "text/html": [
       "<div>\n",
       "<style scoped>\n",
       "    .dataframe tbody tr th:only-of-type {\n",
       "        vertical-align: middle;\n",
       "    }\n",
       "\n",
       "    .dataframe tbody tr th {\n",
       "        vertical-align: top;\n",
       "    }\n",
       "\n",
       "    .dataframe thead th {\n",
       "        text-align: right;\n",
       "    }\n",
       "</style>\n",
       "<table border=\"1\" class=\"dataframe\">\n",
       "  <thead>\n",
       "    <tr style=\"text-align: right;\">\n",
       "      <th></th>\n",
       "      <th>Player</th>\n",
       "      <th>Avg_Score_Rank</th>\n",
       "      <th>Year</th>\n",
       "    </tr>\n",
       "  </thead>\n",
       "  <tbody>\n",
       "    <tr>\n",
       "      <td>0</td>\n",
       "      <td>Tom Watson</td>\n",
       "      <td>1</td>\n",
       "      <td>1980</td>\n",
       "    </tr>\n",
       "    <tr>\n",
       "      <td>1</td>\n",
       "      <td>Keith Fergus</td>\n",
       "      <td>2</td>\n",
       "      <td>1980</td>\n",
       "    </tr>\n",
       "    <tr>\n",
       "      <td>2</td>\n",
       "      <td>Bruce Lietzke</td>\n",
       "      <td>3</td>\n",
       "      <td>1980</td>\n",
       "    </tr>\n",
       "    <tr>\n",
       "      <td>3</td>\n",
       "      <td>Lee Trevino</td>\n",
       "      <td>4</td>\n",
       "      <td>1980</td>\n",
       "    </tr>\n",
       "    <tr>\n",
       "      <td>4</td>\n",
       "      <td>Larry Nelson</td>\n",
       "      <td>5</td>\n",
       "      <td>1980</td>\n",
       "    </tr>\n",
       "  </tbody>\n",
       "</table>\n",
       "</div>"
      ],
      "text/plain": [
       "          Player  Avg_Score_Rank  Year\n",
       "0     Tom Watson               1  1980\n",
       "1   Keith Fergus               2  1980\n",
       "2  Bruce Lietzke               3  1980\n",
       "3    Lee Trevino               4  1980\n",
       "4   Larry Nelson               5  1980"
      ]
     },
     "execution_count": 76,
     "metadata": {},
     "output_type": "execute_result"
    }
   ],
   "source": [
    "df6.head()"
   ]
  },
  {
   "cell_type": "markdown",
   "metadata": {},
   "source": [
    "# MoneyStats df7"
   ]
  },
  {
   "cell_type": "code",
   "execution_count": 77,
   "metadata": {},
   "outputs": [],
   "source": [
    "money = funcs.get_money_rank(Official_Money)"
   ]
  },
  {
   "cell_type": "code",
   "execution_count": 78,
   "metadata": {},
   "outputs": [],
   "source": [
    "df7 = pd.DataFrame(money)"
   ]
  },
  {
   "cell_type": "code",
   "execution_count": 79,
   "metadata": {},
   "outputs": [
    {
     "data": {
      "text/html": [
       "<div>\n",
       "<style scoped>\n",
       "    .dataframe tbody tr th:only-of-type {\n",
       "        vertical-align: middle;\n",
       "    }\n",
       "\n",
       "    .dataframe tbody tr th {\n",
       "        vertical-align: top;\n",
       "    }\n",
       "\n",
       "    .dataframe thead th {\n",
       "        text-align: right;\n",
       "    }\n",
       "</style>\n",
       "<table border=\"1\" class=\"dataframe\">\n",
       "  <thead>\n",
       "    <tr style=\"text-align: right;\">\n",
       "      <th></th>\n",
       "      <th>Player</th>\n",
       "      <th>Money_Rank</th>\n",
       "      <th>Year</th>\n",
       "    </tr>\n",
       "  </thead>\n",
       "  <tbody>\n",
       "    <tr>\n",
       "      <td>0</td>\n",
       "      <td>Tom Watson</td>\n",
       "      <td>1</td>\n",
       "      <td>1980</td>\n",
       "    </tr>\n",
       "    <tr>\n",
       "      <td>1</td>\n",
       "      <td>Craig Stadler</td>\n",
       "      <td>2</td>\n",
       "      <td>1980</td>\n",
       "    </tr>\n",
       "    <tr>\n",
       "      <td>2</td>\n",
       "      <td>Lee Trevino</td>\n",
       "      <td>3</td>\n",
       "      <td>1980</td>\n",
       "    </tr>\n",
       "    <tr>\n",
       "      <td>3</td>\n",
       "      <td>George Burns</td>\n",
       "      <td>4</td>\n",
       "      <td>1980</td>\n",
       "    </tr>\n",
       "    <tr>\n",
       "      <td>4</td>\n",
       "      <td>Andy Bean</td>\n",
       "      <td>5</td>\n",
       "      <td>1980</td>\n",
       "    </tr>\n",
       "  </tbody>\n",
       "</table>\n",
       "</div>"
      ],
      "text/plain": [
       "          Player  Money_Rank  Year\n",
       "0     Tom Watson           1  1980\n",
       "1  Craig Stadler           2  1980\n",
       "2    Lee Trevino           3  1980\n",
       "3   George Burns           4  1980\n",
       "4      Andy Bean           5  1980"
      ]
     },
     "execution_count": 79,
     "metadata": {},
     "output_type": "execute_result"
    }
   ],
   "source": [
    "df7.head()"
   ]
  },
  {
   "cell_type": "markdown",
   "metadata": {},
   "source": [
    "# Par3BirdStats df8"
   ]
  },
  {
   "cell_type": "code",
   "execution_count": 80,
   "metadata": {},
   "outputs": [],
   "source": [
    "par3 = funcs.get_par3_bird(Par3_Birdie)"
   ]
  },
  {
   "cell_type": "code",
   "execution_count": 81,
   "metadata": {},
   "outputs": [],
   "source": [
    "df8 = pd.DataFrame(par3)"
   ]
  },
  {
   "cell_type": "code",
   "execution_count": 82,
   "metadata": {},
   "outputs": [
    {
     "data": {
      "text/html": [
       "<div>\n",
       "<style scoped>\n",
       "    .dataframe tbody tr th:only-of-type {\n",
       "        vertical-align: middle;\n",
       "    }\n",
       "\n",
       "    .dataframe tbody tr th {\n",
       "        vertical-align: top;\n",
       "    }\n",
       "\n",
       "    .dataframe thead th {\n",
       "        text-align: right;\n",
       "    }\n",
       "</style>\n",
       "<table border=\"1\" class=\"dataframe\">\n",
       "  <thead>\n",
       "    <tr style=\"text-align: right;\">\n",
       "      <th></th>\n",
       "      <th>Player</th>\n",
       "      <th>Percent_Par3_Bird</th>\n",
       "      <th>Year</th>\n",
       "    </tr>\n",
       "  </thead>\n",
       "  <tbody>\n",
       "    <tr>\n",
       "      <td>0</td>\n",
       "      <td>Lee Trevino</td>\n",
       "      <td>19.05</td>\n",
       "      <td>1980</td>\n",
       "    </tr>\n",
       "    <tr>\n",
       "      <td>1</td>\n",
       "      <td>Bob Murphy</td>\n",
       "      <td>18.92</td>\n",
       "      <td>1980</td>\n",
       "    </tr>\n",
       "    <tr>\n",
       "      <td>2</td>\n",
       "      <td>Artie McNickle</td>\n",
       "      <td>18.75</td>\n",
       "      <td>1980</td>\n",
       "    </tr>\n",
       "    <tr>\n",
       "      <td>3</td>\n",
       "      <td>Jim Colbert</td>\n",
       "      <td>18.75</td>\n",
       "      <td>1980</td>\n",
       "    </tr>\n",
       "    <tr>\n",
       "      <td>4</td>\n",
       "      <td>Peter Oosterhuis</td>\n",
       "      <td>18.33</td>\n",
       "      <td>1980</td>\n",
       "    </tr>\n",
       "  </tbody>\n",
       "</table>\n",
       "</div>"
      ],
      "text/plain": [
       "             Player  Percent_Par3_Bird  Year\n",
       "0       Lee Trevino              19.05  1980\n",
       "1        Bob Murphy              18.92  1980\n",
       "2    Artie McNickle              18.75  1980\n",
       "3       Jim Colbert              18.75  1980\n",
       "4  Peter Oosterhuis              18.33  1980"
      ]
     },
     "execution_count": 82,
     "metadata": {},
     "output_type": "execute_result"
    }
   ],
   "source": [
    "df8.head()"
   ]
  },
  {
   "cell_type": "markdown",
   "metadata": {},
   "source": [
    "# Par4BirdStats df9"
   ]
  },
  {
   "cell_type": "code",
   "execution_count": 83,
   "metadata": {},
   "outputs": [],
   "source": [
    "par4 = funcs.get_par4_bird(Par4_Birdie)"
   ]
  },
  {
   "cell_type": "code",
   "execution_count": 84,
   "metadata": {},
   "outputs": [],
   "source": [
    "df9 = pd.DataFrame(par4)"
   ]
  },
  {
   "cell_type": "code",
   "execution_count": 85,
   "metadata": {},
   "outputs": [
    {
     "data": {
      "text/html": [
       "<div>\n",
       "<style scoped>\n",
       "    .dataframe tbody tr th:only-of-type {\n",
       "        vertical-align: middle;\n",
       "    }\n",
       "\n",
       "    .dataframe tbody tr th {\n",
       "        vertical-align: top;\n",
       "    }\n",
       "\n",
       "    .dataframe thead th {\n",
       "        text-align: right;\n",
       "    }\n",
       "</style>\n",
       "<table border=\"1\" class=\"dataframe\">\n",
       "  <thead>\n",
       "    <tr style=\"text-align: right;\">\n",
       "      <th></th>\n",
       "      <th>Player</th>\n",
       "      <th>Percent_Par3_Bird</th>\n",
       "      <th>Year</th>\n",
       "    </tr>\n",
       "  </thead>\n",
       "  <tbody>\n",
       "    <tr>\n",
       "      <td>0</td>\n",
       "      <td>Lee Trevino</td>\n",
       "      <td>19.05</td>\n",
       "      <td>1980</td>\n",
       "    </tr>\n",
       "    <tr>\n",
       "      <td>1</td>\n",
       "      <td>Bob Murphy</td>\n",
       "      <td>18.92</td>\n",
       "      <td>1980</td>\n",
       "    </tr>\n",
       "    <tr>\n",
       "      <td>2</td>\n",
       "      <td>Artie McNickle</td>\n",
       "      <td>18.75</td>\n",
       "      <td>1980</td>\n",
       "    </tr>\n",
       "    <tr>\n",
       "      <td>3</td>\n",
       "      <td>Jim Colbert</td>\n",
       "      <td>18.75</td>\n",
       "      <td>1980</td>\n",
       "    </tr>\n",
       "    <tr>\n",
       "      <td>4</td>\n",
       "      <td>Peter Oosterhuis</td>\n",
       "      <td>18.33</td>\n",
       "      <td>1980</td>\n",
       "    </tr>\n",
       "  </tbody>\n",
       "</table>\n",
       "</div>"
      ],
      "text/plain": [
       "             Player  Percent_Par3_Bird  Year\n",
       "0       Lee Trevino              19.05  1980\n",
       "1        Bob Murphy              18.92  1980\n",
       "2    Artie McNickle              18.75  1980\n",
       "3       Jim Colbert              18.75  1980\n",
       "4  Peter Oosterhuis              18.33  1980"
      ]
     },
     "execution_count": 85,
     "metadata": {},
     "output_type": "execute_result"
    }
   ],
   "source": [
    "df8.head()"
   ]
  },
  {
   "cell_type": "markdown",
   "metadata": {},
   "source": [
    "# Par5BirdStats df10"
   ]
  },
  {
   "cell_type": "code",
   "execution_count": 86,
   "metadata": {},
   "outputs": [],
   "source": [
    "par5 = funcs.get_par5_bird(Par5_Birdie)"
   ]
  },
  {
   "cell_type": "code",
   "execution_count": 87,
   "metadata": {},
   "outputs": [],
   "source": [
    "df10 = pd.DataFrame(par5)"
   ]
  },
  {
   "cell_type": "code",
   "execution_count": 88,
   "metadata": {},
   "outputs": [
    {
     "data": {
      "text/html": [
       "<div>\n",
       "<style scoped>\n",
       "    .dataframe tbody tr th:only-of-type {\n",
       "        vertical-align: middle;\n",
       "    }\n",
       "\n",
       "    .dataframe tbody tr th {\n",
       "        vertical-align: top;\n",
       "    }\n",
       "\n",
       "    .dataframe thead th {\n",
       "        text-align: right;\n",
       "    }\n",
       "</style>\n",
       "<table border=\"1\" class=\"dataframe\">\n",
       "  <thead>\n",
       "    <tr style=\"text-align: right;\">\n",
       "      <th></th>\n",
       "      <th>Player</th>\n",
       "      <th>Percent_Par5_Bird</th>\n",
       "      <th>Year</th>\n",
       "    </tr>\n",
       "  </thead>\n",
       "  <tbody>\n",
       "    <tr>\n",
       "      <td>0</td>\n",
       "      <td>Tom Purtzer</td>\n",
       "      <td>54.31</td>\n",
       "      <td>1980</td>\n",
       "    </tr>\n",
       "    <tr>\n",
       "      <td>1</td>\n",
       "      <td>Lon Hinkle</td>\n",
       "      <td>47.06</td>\n",
       "      <td>1980</td>\n",
       "    </tr>\n",
       "    <tr>\n",
       "      <td>2</td>\n",
       "      <td>Tom Watson</td>\n",
       "      <td>47.00</td>\n",
       "      <td>1980</td>\n",
       "    </tr>\n",
       "    <tr>\n",
       "      <td>3</td>\n",
       "      <td>Peter Jacobsen</td>\n",
       "      <td>45.45</td>\n",
       "      <td>1980</td>\n",
       "    </tr>\n",
       "    <tr>\n",
       "      <td>4</td>\n",
       "      <td>Bobby Wadkins</td>\n",
       "      <td>45.08</td>\n",
       "      <td>1980</td>\n",
       "    </tr>\n",
       "  </tbody>\n",
       "</table>\n",
       "</div>"
      ],
      "text/plain": [
       "           Player  Percent_Par5_Bird  Year\n",
       "0     Tom Purtzer              54.31  1980\n",
       "1      Lon Hinkle              47.06  1980\n",
       "2      Tom Watson              47.00  1980\n",
       "3  Peter Jacobsen              45.45  1980\n",
       "4   Bobby Wadkins              45.08  1980"
      ]
     },
     "execution_count": 88,
     "metadata": {},
     "output_type": "execute_result"
    }
   ],
   "source": [
    "df10.head()"
   ]
  },
  {
   "cell_type": "markdown",
   "metadata": {},
   "source": [
    "# AvgScoreb4Cut df11"
   ]
  },
  {
   "cell_type": "code",
   "execution_count": 89,
   "metadata": {},
   "outputs": [],
   "source": [
    "avgscore = funcs.get_avg_scoreb4cut(Avg_Score_b4_cut)"
   ]
  },
  {
   "cell_type": "code",
   "execution_count": 90,
   "metadata": {},
   "outputs": [],
   "source": [
    "df11 = pd.DataFrame(avgscore)"
   ]
  },
  {
   "cell_type": "code",
   "execution_count": 91,
   "metadata": {},
   "outputs": [
    {
     "data": {
      "text/html": [
       "<div>\n",
       "<style scoped>\n",
       "    .dataframe tbody tr th:only-of-type {\n",
       "        vertical-align: middle;\n",
       "    }\n",
       "\n",
       "    .dataframe tbody tr th {\n",
       "        vertical-align: top;\n",
       "    }\n",
       "\n",
       "    .dataframe thead th {\n",
       "        text-align: right;\n",
       "    }\n",
       "</style>\n",
       "<table border=\"1\" class=\"dataframe\">\n",
       "  <thead>\n",
       "    <tr style=\"text-align: right;\">\n",
       "      <th></th>\n",
       "      <th>Player</th>\n",
       "      <th>Avg_scoreB4cut</th>\n",
       "      <th>Year</th>\n",
       "    </tr>\n",
       "  </thead>\n",
       "  <tbody>\n",
       "    <tr>\n",
       "      <td>0</td>\n",
       "      <td>Tom Watson</td>\n",
       "      <td>69.79</td>\n",
       "      <td>1980</td>\n",
       "    </tr>\n",
       "    <tr>\n",
       "      <td>1</td>\n",
       "      <td>John Mahaffey</td>\n",
       "      <td>70.47</td>\n",
       "      <td>1980</td>\n",
       "    </tr>\n",
       "    <tr>\n",
       "      <td>2</td>\n",
       "      <td>Keith Fergus</td>\n",
       "      <td>70.62</td>\n",
       "      <td>1980</td>\n",
       "    </tr>\n",
       "    <tr>\n",
       "      <td>3</td>\n",
       "      <td>Andy Bean</td>\n",
       "      <td>70.67</td>\n",
       "      <td>1980</td>\n",
       "    </tr>\n",
       "    <tr>\n",
       "      <td>4</td>\n",
       "      <td>Larry Nelson</td>\n",
       "      <td>70.71</td>\n",
       "      <td>1980</td>\n",
       "    </tr>\n",
       "  </tbody>\n",
       "</table>\n",
       "</div>"
      ],
      "text/plain": [
       "          Player  Avg_scoreB4cut  Year\n",
       "0     Tom Watson           69.79  1980\n",
       "1  John Mahaffey           70.47  1980\n",
       "2   Keith Fergus           70.62  1980\n",
       "3      Andy Bean           70.67  1980\n",
       "4   Larry Nelson           70.71  1980"
      ]
     },
     "execution_count": 91,
     "metadata": {},
     "output_type": "execute_result"
    }
   ],
   "source": [
    "df11.head()"
   ]
  },
  {
   "cell_type": "markdown",
   "metadata": {},
   "source": [
    "# Top10 Masters DF"
   ]
  },
  {
   "cell_type": "code",
   "execution_count": 92,
   "metadata": {},
   "outputs": [],
   "source": [
    "top10 = pd.read_excel('MastersTop10_1980-2019.xlsx')"
   ]
  },
  {
   "cell_type": "code",
   "execution_count": 95,
   "metadata": {},
   "outputs": [
    {
     "data": {
      "text/html": [
       "<div>\n",
       "<style scoped>\n",
       "    .dataframe tbody tr th:only-of-type {\n",
       "        vertical-align: middle;\n",
       "    }\n",
       "\n",
       "    .dataframe tbody tr th {\n",
       "        vertical-align: top;\n",
       "    }\n",
       "\n",
       "    .dataframe thead th {\n",
       "        text-align: right;\n",
       "    }\n",
       "</style>\n",
       "<table border=\"1\" class=\"dataframe\">\n",
       "  <thead>\n",
       "    <tr style=\"text-align: right;\">\n",
       "      <th></th>\n",
       "      <th>Year</th>\n",
       "      <th>Player</th>\n",
       "      <th>Masters_Top_10</th>\n",
       "    </tr>\n",
       "  </thead>\n",
       "  <tbody>\n",
       "    <tr>\n",
       "      <td>0</td>\n",
       "      <td>1980</td>\n",
       "      <td>Seve Ballesteros</td>\n",
       "      <td>1</td>\n",
       "    </tr>\n",
       "    <tr>\n",
       "      <td>1</td>\n",
       "      <td>1980</td>\n",
       "      <td>Gibby Gilbert</td>\n",
       "      <td>1</td>\n",
       "    </tr>\n",
       "    <tr>\n",
       "      <td>2</td>\n",
       "      <td>1980</td>\n",
       "      <td>Jack Newton</td>\n",
       "      <td>1</td>\n",
       "    </tr>\n",
       "    <tr>\n",
       "      <td>3</td>\n",
       "      <td>1980</td>\n",
       "      <td>Hubert Green</td>\n",
       "      <td>1</td>\n",
       "    </tr>\n",
       "    <tr>\n",
       "      <td>4</td>\n",
       "      <td>1980</td>\n",
       "      <td>David Graham</td>\n",
       "      <td>1</td>\n",
       "    </tr>\n",
       "  </tbody>\n",
       "</table>\n",
       "</div>"
      ],
      "text/plain": [
       "   Year            Player  Masters_Top_10\n",
       "0  1980  Seve Ballesteros               1\n",
       "1  1980     Gibby Gilbert               1\n",
       "2  1980       Jack Newton               1\n",
       "3  1980      Hubert Green               1\n",
       "4  1980      David Graham               1"
      ]
     },
     "execution_count": 95,
     "metadata": {},
     "output_type": "execute_result"
    }
   ],
   "source": [
    "top10.head()"
   ]
  },
  {
   "cell_type": "markdown",
   "metadata": {},
   "source": [
    "# Top25 Masters DF"
   ]
  },
  {
   "cell_type": "code",
   "execution_count": 96,
   "metadata": {},
   "outputs": [],
   "source": [
    "top25 = pd.read_excel('MastersTop25_1980-2019.xlsx')"
   ]
  },
  {
   "cell_type": "code",
   "execution_count": 98,
   "metadata": {
    "scrolled": true
   },
   "outputs": [
    {
     "data": {
      "text/html": [
       "<div>\n",
       "<style scoped>\n",
       "    .dataframe tbody tr th:only-of-type {\n",
       "        vertical-align: middle;\n",
       "    }\n",
       "\n",
       "    .dataframe tbody tr th {\n",
       "        vertical-align: top;\n",
       "    }\n",
       "\n",
       "    .dataframe thead th {\n",
       "        text-align: right;\n",
       "    }\n",
       "</style>\n",
       "<table border=\"1\" class=\"dataframe\">\n",
       "  <thead>\n",
       "    <tr style=\"text-align: right;\">\n",
       "      <th></th>\n",
       "      <th>Year</th>\n",
       "      <th>Player</th>\n",
       "      <th>Masters_Top_25</th>\n",
       "    </tr>\n",
       "  </thead>\n",
       "  <tbody>\n",
       "    <tr>\n",
       "      <td>0</td>\n",
       "      <td>1980</td>\n",
       "      <td>Seve Ballesteros</td>\n",
       "      <td>1</td>\n",
       "    </tr>\n",
       "    <tr>\n",
       "      <td>1</td>\n",
       "      <td>1980</td>\n",
       "      <td>Gibby Gilbert</td>\n",
       "      <td>1</td>\n",
       "    </tr>\n",
       "    <tr>\n",
       "      <td>2</td>\n",
       "      <td>1980</td>\n",
       "      <td>Jack Newton</td>\n",
       "      <td>1</td>\n",
       "    </tr>\n",
       "    <tr>\n",
       "      <td>3</td>\n",
       "      <td>1980</td>\n",
       "      <td>Hubert Green</td>\n",
       "      <td>1</td>\n",
       "    </tr>\n",
       "    <tr>\n",
       "      <td>4</td>\n",
       "      <td>1980</td>\n",
       "      <td>David Graham</td>\n",
       "      <td>1</td>\n",
       "    </tr>\n",
       "  </tbody>\n",
       "</table>\n",
       "</div>"
      ],
      "text/plain": [
       "   Year            Player  Masters_Top_25\n",
       "0  1980  Seve Ballesteros               1\n",
       "1  1980     Gibby Gilbert               1\n",
       "2  1980       Jack Newton               1\n",
       "3  1980      Hubert Green               1\n",
       "4  1980      David Graham               1"
      ]
     },
     "execution_count": 98,
     "metadata": {},
     "output_type": "execute_result"
    }
   ],
   "source": [
    "top25.head()"
   ]
  },
  {
   "cell_type": "markdown",
   "metadata": {},
   "source": [
    "# Merge All DFs - Put in CSV"
   ]
  },
  {
   "cell_type": "code",
   "execution_count": 104,
   "metadata": {},
   "outputs": [],
   "source": [
    "data_frames = [df1,df2,df3,df4,df5,df6,df7,df8,df9,df10,df11,top10,top25]"
   ]
  },
  {
   "cell_type": "code",
   "execution_count": 105,
   "metadata": {},
   "outputs": [],
   "source": [
    "Masters_Stats = reduce(lambda  left,right: pd.merge(left,right,on=['Year','Player'],\n",
    "                                            how='outer'), data_frames)"
   ]
  },
  {
   "cell_type": "code",
   "execution_count": 120,
   "metadata": {
    "scrolled": true
   },
   "outputs": [
    {
     "data": {
      "text/html": [
       "<div>\n",
       "<style scoped>\n",
       "    .dataframe tbody tr th:only-of-type {\n",
       "        vertical-align: middle;\n",
       "    }\n",
       "\n",
       "    .dataframe tbody tr th {\n",
       "        vertical-align: top;\n",
       "    }\n",
       "\n",
       "    .dataframe thead th {\n",
       "        text-align: right;\n",
       "    }\n",
       "</style>\n",
       "<table border=\"1\" class=\"dataframe\">\n",
       "  <thead>\n",
       "    <tr style=\"text-align: right;\">\n",
       "      <th></th>\n",
       "      <th>Player</th>\n",
       "      <th>Driving_Rank</th>\n",
       "      <th>Average_Drive_Distance</th>\n",
       "      <th>Year</th>\n",
       "      <th>Percent_Fairway_Hit</th>\n",
       "      <th>Percent_Greens_Hit</th>\n",
       "      <th>Top_10's</th>\n",
       "      <th>Percent_BreakPar_Rank</th>\n",
       "      <th>Avg_Score_Rank</th>\n",
       "      <th>Money_Rank</th>\n",
       "      <th>Percent_Par3_Bird</th>\n",
       "      <th>Percent_Par4_Bird</th>\n",
       "      <th>Percent_Par5_Bird</th>\n",
       "      <th>Avg_scoreB4cut</th>\n",
       "      <th>Masters_Top_10</th>\n",
       "      <th>Masters_Top_25</th>\n",
       "    </tr>\n",
       "  </thead>\n",
       "  <tbody>\n",
       "    <tr>\n",
       "      <td>0</td>\n",
       "      <td>Fuzzy Zoeller</td>\n",
       "      <td>1.0</td>\n",
       "      <td>267.4</td>\n",
       "      <td>1980</td>\n",
       "      <td>63.10</td>\n",
       "      <td>62.81</td>\n",
       "      <td>4.0</td>\n",
       "      <td>32.0</td>\n",
       "      <td>38.0</td>\n",
       "      <td>29.0</td>\n",
       "      <td>12.14</td>\n",
       "      <td>12.31</td>\n",
       "      <td>41.53</td>\n",
       "      <td>71.5</td>\n",
       "      <td>0.0</td>\n",
       "      <td>1.0</td>\n",
       "    </tr>\n",
       "    <tr>\n",
       "      <td>1</td>\n",
       "      <td>Barney Thompson</td>\n",
       "      <td>2.0</td>\n",
       "      <td>267.1</td>\n",
       "      <td>1980</td>\n",
       "      <td>56.75</td>\n",
       "      <td>59.26</td>\n",
       "      <td>NaN</td>\n",
       "      <td>141.0</td>\n",
       "      <td>130.0</td>\n",
       "      <td>124.0</td>\n",
       "      <td>5.56</td>\n",
       "      <td>7.61</td>\n",
       "      <td>33.82</td>\n",
       "      <td>72.7</td>\n",
       "      <td>NaN</td>\n",
       "      <td>NaN</td>\n",
       "    </tr>\n",
       "    <tr>\n",
       "      <td>2</td>\n",
       "      <td>J.C. Snead</td>\n",
       "      <td>3.0</td>\n",
       "      <td>266.9</td>\n",
       "      <td>1980</td>\n",
       "      <td>59.13</td>\n",
       "      <td>63.27</td>\n",
       "      <td>1.0</td>\n",
       "      <td>124.0</td>\n",
       "      <td>28.0</td>\n",
       "      <td>42.0</td>\n",
       "      <td>5.56</td>\n",
       "      <td>12.20</td>\n",
       "      <td>28.15</td>\n",
       "      <td>71.1</td>\n",
       "      <td>0.0</td>\n",
       "      <td>1.0</td>\n",
       "    </tr>\n",
       "    <tr>\n",
       "      <td>3</td>\n",
       "      <td>Buddy Gardner</td>\n",
       "      <td>4.0</td>\n",
       "      <td>266.8</td>\n",
       "      <td>1980</td>\n",
       "      <td>56.56</td>\n",
       "      <td>62.91</td>\n",
       "      <td>NaN</td>\n",
       "      <td>50.0</td>\n",
       "      <td>88.0</td>\n",
       "      <td>84.0</td>\n",
       "      <td>13.70</td>\n",
       "      <td>10.51</td>\n",
       "      <td>38.46</td>\n",
       "      <td>72.2</td>\n",
       "      <td>NaN</td>\n",
       "      <td>NaN</td>\n",
       "    </tr>\n",
       "    <tr>\n",
       "      <td>4</td>\n",
       "      <td>Jack Nicklaus</td>\n",
       "      <td>5.0</td>\n",
       "      <td>265.9</td>\n",
       "      <td>1980</td>\n",
       "      <td>70.36</td>\n",
       "      <td>70.83</td>\n",
       "      <td>1.0</td>\n",
       "      <td>26.0</td>\n",
       "      <td>9.0</td>\n",
       "      <td>26.0</td>\n",
       "      <td>13.75</td>\n",
       "      <td>17.16</td>\n",
       "      <td>25.00</td>\n",
       "      <td>71.4</td>\n",
       "      <td>0.0</td>\n",
       "      <td>0.0</td>\n",
       "    </tr>\n",
       "  </tbody>\n",
       "</table>\n",
       "</div>"
      ],
      "text/plain": [
       "            Player  Driving_Rank  Average_Drive_Distance  Year  \\\n",
       "0    Fuzzy Zoeller           1.0                   267.4  1980   \n",
       "1  Barney Thompson           2.0                   267.1  1980   \n",
       "2       J.C. Snead           3.0                   266.9  1980   \n",
       "3    Buddy Gardner           4.0                   266.8  1980   \n",
       "4    Jack Nicklaus           5.0                   265.9  1980   \n",
       "\n",
       "   Percent_Fairway_Hit  Percent_Greens_Hit  Top_10's  Percent_BreakPar_Rank  \\\n",
       "0                63.10               62.81       4.0                   32.0   \n",
       "1                56.75               59.26       NaN                  141.0   \n",
       "2                59.13               63.27       1.0                  124.0   \n",
       "3                56.56               62.91       NaN                   50.0   \n",
       "4                70.36               70.83       1.0                   26.0   \n",
       "\n",
       "   Avg_Score_Rank  Money_Rank  Percent_Par3_Bird  Percent_Par4_Bird  \\\n",
       "0            38.0        29.0              12.14              12.31   \n",
       "1           130.0       124.0               5.56               7.61   \n",
       "2            28.0        42.0               5.56              12.20   \n",
       "3            88.0        84.0              13.70              10.51   \n",
       "4             9.0        26.0              13.75              17.16   \n",
       "\n",
       "   Percent_Par5_Bird  Avg_scoreB4cut  Masters_Top_10  Masters_Top_25  \n",
       "0              41.53            71.5             0.0             1.0  \n",
       "1              33.82            72.7             NaN             NaN  \n",
       "2              28.15            71.1             0.0             1.0  \n",
       "3              38.46            72.2             NaN             NaN  \n",
       "4              25.00            71.4             0.0             0.0  "
      ]
     },
     "execution_count": 120,
     "metadata": {},
     "output_type": "execute_result"
    }
   ],
   "source": [
    "Masters_Stats.head()"
   ]
  },
  {
   "cell_type": "code",
   "execution_count": 125,
   "metadata": {},
   "outputs": [],
   "source": [
    "Masters_Stats.to_csv('Masters_Stats0.csv', index = False)"
   ]
  },
  {
   "cell_type": "code",
   "execution_count": 126,
   "metadata": {},
   "outputs": [],
   "source": [
    "masters = pd.read_csv('Masters_Stats0.csv')"
   ]
  },
  {
   "cell_type": "code",
   "execution_count": 127,
   "metadata": {},
   "outputs": [
    {
     "data": {
      "text/html": [
       "<div>\n",
       "<style scoped>\n",
       "    .dataframe tbody tr th:only-of-type {\n",
       "        vertical-align: middle;\n",
       "    }\n",
       "\n",
       "    .dataframe tbody tr th {\n",
       "        vertical-align: top;\n",
       "    }\n",
       "\n",
       "    .dataframe thead th {\n",
       "        text-align: right;\n",
       "    }\n",
       "</style>\n",
       "<table border=\"1\" class=\"dataframe\">\n",
       "  <thead>\n",
       "    <tr style=\"text-align: right;\">\n",
       "      <th></th>\n",
       "      <th>Player</th>\n",
       "      <th>Driving_Rank</th>\n",
       "      <th>Average_Drive_Distance</th>\n",
       "      <th>Year</th>\n",
       "      <th>Percent_Fairway_Hit</th>\n",
       "      <th>Percent_Greens_Hit</th>\n",
       "      <th>Top_10's</th>\n",
       "      <th>Percent_BreakPar_Rank</th>\n",
       "      <th>Avg_Score_Rank</th>\n",
       "      <th>Money_Rank</th>\n",
       "      <th>Percent_Par3_Bird</th>\n",
       "      <th>Percent_Par4_Bird</th>\n",
       "      <th>Percent_Par5_Bird</th>\n",
       "      <th>Avg_scoreB4cut</th>\n",
       "      <th>Masters_Top_10</th>\n",
       "      <th>Masters_Top_25</th>\n",
       "    </tr>\n",
       "  </thead>\n",
       "  <tbody>\n",
       "    <tr>\n",
       "      <td>0</td>\n",
       "      <td>Fuzzy Zoeller</td>\n",
       "      <td>1.0</td>\n",
       "      <td>267.4</td>\n",
       "      <td>1980</td>\n",
       "      <td>63.10</td>\n",
       "      <td>62.81</td>\n",
       "      <td>4.0</td>\n",
       "      <td>32.0</td>\n",
       "      <td>38.0</td>\n",
       "      <td>29.0</td>\n",
       "      <td>12.14</td>\n",
       "      <td>12.31</td>\n",
       "      <td>41.53</td>\n",
       "      <td>71.5</td>\n",
       "      <td>0.0</td>\n",
       "      <td>1.0</td>\n",
       "    </tr>\n",
       "    <tr>\n",
       "      <td>1</td>\n",
       "      <td>Barney Thompson</td>\n",
       "      <td>2.0</td>\n",
       "      <td>267.1</td>\n",
       "      <td>1980</td>\n",
       "      <td>56.75</td>\n",
       "      <td>59.26</td>\n",
       "      <td>NaN</td>\n",
       "      <td>141.0</td>\n",
       "      <td>130.0</td>\n",
       "      <td>124.0</td>\n",
       "      <td>5.56</td>\n",
       "      <td>7.61</td>\n",
       "      <td>33.82</td>\n",
       "      <td>72.7</td>\n",
       "      <td>NaN</td>\n",
       "      <td>NaN</td>\n",
       "    </tr>\n",
       "    <tr>\n",
       "      <td>2</td>\n",
       "      <td>J.C. Snead</td>\n",
       "      <td>3.0</td>\n",
       "      <td>266.9</td>\n",
       "      <td>1980</td>\n",
       "      <td>59.13</td>\n",
       "      <td>63.27</td>\n",
       "      <td>1.0</td>\n",
       "      <td>124.0</td>\n",
       "      <td>28.0</td>\n",
       "      <td>42.0</td>\n",
       "      <td>5.56</td>\n",
       "      <td>12.20</td>\n",
       "      <td>28.15</td>\n",
       "      <td>71.1</td>\n",
       "      <td>0.0</td>\n",
       "      <td>1.0</td>\n",
       "    </tr>\n",
       "    <tr>\n",
       "      <td>3</td>\n",
       "      <td>Buddy Gardner</td>\n",
       "      <td>4.0</td>\n",
       "      <td>266.8</td>\n",
       "      <td>1980</td>\n",
       "      <td>56.56</td>\n",
       "      <td>62.91</td>\n",
       "      <td>NaN</td>\n",
       "      <td>50.0</td>\n",
       "      <td>88.0</td>\n",
       "      <td>84.0</td>\n",
       "      <td>13.70</td>\n",
       "      <td>10.51</td>\n",
       "      <td>38.46</td>\n",
       "      <td>72.2</td>\n",
       "      <td>NaN</td>\n",
       "      <td>NaN</td>\n",
       "    </tr>\n",
       "    <tr>\n",
       "      <td>4</td>\n",
       "      <td>Jack Nicklaus</td>\n",
       "      <td>5.0</td>\n",
       "      <td>265.9</td>\n",
       "      <td>1980</td>\n",
       "      <td>70.36</td>\n",
       "      <td>70.83</td>\n",
       "      <td>1.0</td>\n",
       "      <td>26.0</td>\n",
       "      <td>9.0</td>\n",
       "      <td>26.0</td>\n",
       "      <td>13.75</td>\n",
       "      <td>17.16</td>\n",
       "      <td>25.00</td>\n",
       "      <td>71.4</td>\n",
       "      <td>0.0</td>\n",
       "      <td>0.0</td>\n",
       "    </tr>\n",
       "  </tbody>\n",
       "</table>\n",
       "</div>"
      ],
      "text/plain": [
       "            Player  Driving_Rank  Average_Drive_Distance  Year  \\\n",
       "0    Fuzzy Zoeller           1.0                   267.4  1980   \n",
       "1  Barney Thompson           2.0                   267.1  1980   \n",
       "2       J.C. Snead           3.0                   266.9  1980   \n",
       "3    Buddy Gardner           4.0                   266.8  1980   \n",
       "4    Jack Nicklaus           5.0                   265.9  1980   \n",
       "\n",
       "   Percent_Fairway_Hit  Percent_Greens_Hit  Top_10's  Percent_BreakPar_Rank  \\\n",
       "0                63.10               62.81       4.0                   32.0   \n",
       "1                56.75               59.26       NaN                  141.0   \n",
       "2                59.13               63.27       1.0                  124.0   \n",
       "3                56.56               62.91       NaN                   50.0   \n",
       "4                70.36               70.83       1.0                   26.0   \n",
       "\n",
       "   Avg_Score_Rank  Money_Rank  Percent_Par3_Bird  Percent_Par4_Bird  \\\n",
       "0            38.0        29.0              12.14              12.31   \n",
       "1           130.0       124.0               5.56               7.61   \n",
       "2            28.0        42.0               5.56              12.20   \n",
       "3            88.0        84.0              13.70              10.51   \n",
       "4             9.0        26.0              13.75              17.16   \n",
       "\n",
       "   Percent_Par5_Bird  Avg_scoreB4cut  Masters_Top_10  Masters_Top_25  \n",
       "0              41.53            71.5             0.0             1.0  \n",
       "1              33.82            72.7             NaN             NaN  \n",
       "2              28.15            71.1             0.0             1.0  \n",
       "3              38.46            72.2             NaN             NaN  \n",
       "4              25.00            71.4             0.0             0.0  "
      ]
     },
     "execution_count": 127,
     "metadata": {},
     "output_type": "execute_result"
    }
   ],
   "source": [
    "masters.head()"
   ]
  },
  {
   "cell_type": "code",
   "execution_count": 130,
   "metadata": {},
   "outputs": [
    {
     "name": "stdout",
     "output_type": "stream",
     "text": [
      "<class 'pandas.core.frame.DataFrame'>\n",
      "RangeIndex: 11325 entries, 0 to 11324\n",
      "Data columns (total 16 columns):\n",
      "Player                    11325 non-null object\n",
      "Driving_Rank              8153 non-null float64\n",
      "Average_Drive_Distance    8153 non-null float64\n",
      "Year                      11325 non-null int64\n",
      "Percent_Fairway_Hit       8153 non-null float64\n",
      "Percent_Greens_Hit        8153 non-null float64\n",
      "Top_10's                  4124 non-null float64\n",
      "Percent_BreakPar_Rank     8153 non-null float64\n",
      "Avg_Score_Rank            8154 non-null float64\n",
      "Money_Rank                10298 non-null float64\n",
      "Percent_Par3_Bird         8153 non-null float64\n",
      "Percent_Par4_Bird         8153 non-null float64\n",
      "Percent_Par5_Bird         8153 non-null float64\n",
      "Avg_scoreB4cut            8154 non-null float64\n",
      "Masters_Top_10            3534 non-null float64\n",
      "Masters_Top_25            3534 non-null float64\n",
      "dtypes: float64(14), int64(1), object(1)\n",
      "memory usage: 1.4+ MB\n"
     ]
    }
   ],
   "source": [
    "masters.info()"
   ]
  },
  {
   "cell_type": "code",
   "execution_count": null,
   "metadata": {},
   "outputs": [],
   "source": []
  }
 ],
 "metadata": {
  "kernelspec": {
   "display_name": "Python 3",
   "language": "python",
   "name": "python3"
  },
  "language_info": {
   "codemirror_mode": {
    "name": "ipython",
    "version": 3
   },
   "file_extension": ".py",
   "mimetype": "text/x-python",
   "name": "python",
   "nbconvert_exporter": "python",
   "pygments_lexer": "ipython3",
   "version": "3.7.4"
  }
 },
 "nbformat": 4,
 "nbformat_minor": 2
}
